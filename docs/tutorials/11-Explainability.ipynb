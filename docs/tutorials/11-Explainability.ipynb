{
 "cells": [
  {
   "cell_type": "code",
   "execution_count": 1,
   "metadata": {
    "Collapsed": "false"
   },
   "outputs": [],
   "source": [
    "from sklearn.datasets import make_classification\n",
    "from sklearn.model_selection import train_test_split\n",
    "from sklearn.metrics import accuracy_score, f1_score\n",
    "import random\n",
    "import numpy as np\n",
    "import pandas as pd\n",
    "import os\n",
    "import matplotlib.pyplot as plt\n",
    "# %load_ext autoreload\n",
    "# %autoreload 2"
   ]
  },
  {
   "cell_type": "markdown",
   "metadata": {
    "Collapsed": "false"
   },
   "source": [
    "# Utility Functions"
   ]
  },
  {
   "cell_type": "code",
   "execution_count": 2,
   "metadata": {
    "Collapsed": "false"
   },
   "outputs": [],
   "source": [
    "def make_mixed_classification(n_samples, n_features, n_categories):\n",
    "    X,y = make_classification(n_samples=n_samples, n_features=n_features, random_state=42, n_informative=5)\n",
    "    cat_cols = random.choices(list(range(X.shape[-1])),k=n_categories)\n",
    "    num_cols = [i for i in range(X.shape[-1]) if i not in cat_cols]\n",
    "    for col in cat_cols:\n",
    "        X[:,col] = pd.qcut(X[:,col], q=4).codes.astype(int)\n",
    "    col_names = [] \n",
    "    num_col_names=[]\n",
    "    cat_col_names=[]\n",
    "    for i in range(X.shape[-1]):\n",
    "        if i in cat_cols:\n",
    "            col_names.append(f\"cat_col_{i}\")\n",
    "            cat_col_names.append(f\"cat_col_{i}\")\n",
    "        if i in num_cols:\n",
    "            col_names.append(f\"num_col_{i}\")\n",
    "            num_col_names.append(f\"num_col_{i}\")\n",
    "    X = pd.DataFrame(X, columns=col_names)\n",
    "    y = pd.Series(y, name=\"target\")\n",
    "    data = X.join(y)\n",
    "    return data, cat_col_names, num_col_names\n",
    "\n",
    "def print_metrics(y_true, y_pred, tag):\n",
    "    if isinstance(y_true, pd.DataFrame) or isinstance(y_true, pd.Series):\n",
    "        y_true = y_true.values\n",
    "    if isinstance(y_pred, pd.DataFrame) or isinstance(y_pred, pd.Series):\n",
    "        y_pred = y_pred.values\n",
    "    if y_true.ndim>1:\n",
    "        y_true=y_true.ravel()\n",
    "    if y_pred.ndim>1:\n",
    "        y_pred=y_pred.ravel()\n",
    "    val_acc = accuracy_score(y_true, y_pred)\n",
    "    val_f1 = f1_score(y_true, y_pred)\n",
    "    print(f\"{tag} Acc: {val_acc} | {tag} F1: {val_f1}\")"
   ]
  },
  {
   "cell_type": "markdown",
   "metadata": {
    "Collapsed": "false"
   },
   "source": [
    "# Generate Synthetic Data \n",
    "\n",
    "First of all, let's create a synthetic data which is a mix of numerical and categorical features"
   ]
  },
  {
   "cell_type": "code",
   "execution_count": 3,
   "metadata": {
    "Collapsed": "false"
   },
   "outputs": [],
   "source": [
    "data, cat_col_names, num_col_names = make_mixed_classification(n_samples=10000, n_features=20, n_categories=4)\n",
    "train, test = train_test_split(data, random_state=42)\n",
    "train, val = train_test_split(train, random_state=42)"
   ]
  },
  {
   "cell_type": "markdown",
   "metadata": {
    "Collapsed": "false"
   },
   "source": [
    "# Importing the Library"
   ]
  },
  {
   "cell_type": "code",
   "execution_count": 4,
   "metadata": {
    "Collapsed": "false"
   },
   "outputs": [],
   "source": [
    "from pytorch_tabular import TabularModel\n",
    "from pytorch_tabular.models import GANDALFConfig\n",
    "from pytorch_tabular.config import DataConfig, OptimizerConfig, TrainerConfig, ExperimentConfig\n",
    "from pytorch_tabular.models.common.heads import LinearHeadConfig"
   ]
  },
  {
   "cell_type": "markdown",
   "metadata": {
    "Collapsed": "false"
   },
   "source": [
    "## Define the Configs"
   ]
  },
  {
   "cell_type": "code",
   "execution_count": 5,
   "metadata": {
    "Collapsed": "false"
   },
   "outputs": [
    {
     "name": "stdout",
     "output_type": "stream",
     "text": [
      "\u001b[1;36m2023\u001b[0m-\u001b[1;36m12\u001b[0m-\u001b[1;36m08\u001b[0m \u001b[1;92m14:52:18\u001b[0m,\u001b[1;36m002\u001b[0m - \u001b[1m{\u001b[0mpytorch_tabular.tabular_model:\u001b[1;36m122\u001b[0m\u001b[1m}\u001b[0m - INFO -          \n",
      "Experiment Tracking is turned off                                               \n"
     ]
    }
   ],
   "source": [
    "data_config = DataConfig(\n",
    "    target=['target'], #target should always be a list. Multi-targets are only supported for regression. Multi-Task Classification is not implemented\n",
    "    continuous_cols=num_col_names,\n",
    "    categorical_cols=cat_col_names,\n",
    ")\n",
    "trainer_config = TrainerConfig(\n",
    "    auto_lr_find=True, # Runs the LRFinder to automatically derive a learning rate\n",
    "    batch_size=1024,\n",
    "    max_epochs=100,\n",
    "    accelerator=\"auto\", # can be 'cpu','gpu', 'tpu', or 'ipu' \n",
    ")\n",
    "optimizer_config = OptimizerConfig()\n",
    "\n",
    "head_config = LinearHeadConfig(\n",
    "    layers=\"\", # No additional layer in head, just a mapping layer to output_dim\n",
    "    dropout=0.1,\n",
    "    initialization=\"kaiming\"\n",
    ").__dict__ # Convert to dict to pass to the model config (OmegaConf doesn't accept objects)\n",
    "\n",
    "model_config = GANDALFConfig(\n",
    "    task=\"classification\",\n",
    "    gflu_stages=3, # Number of stages in the GFLU block\n",
    "    gflu_dropout=0.0, # Dropout in each of the GFLU block\n",
    "    gflu_feature_init_sparsity=0.1, # Sparsity of the initial feature selection\n",
    "    head = \"LinearHead\", #Linear Head\n",
    "    head_config = head_config, # Linear Head Config\n",
    "    learning_rate = 1e-3\n",
    ")\n",
    "\n",
    "\n",
    "tabular_model = TabularModel(\n",
    "    data_config=data_config,\n",
    "    model_config=model_config,\n",
    "    optimizer_config=optimizer_config,\n",
    "    trainer_config=trainer_config,\n",
    ")"
   ]
  },
  {
   "cell_type": "markdown",
   "metadata": {
    "Collapsed": "false"
   },
   "source": [
    "## Training the Model "
   ]
  },
  {
   "cell_type": "code",
   "execution_count": 6,
   "metadata": {
    "Collapsed": "false",
    "tags": []
   },
   "outputs": [
    {
     "name": "stderr",
     "output_type": "stream",
     "text": [
      "Seed set to 42\n"
     ]
    },
    {
     "name": "stdout",
     "output_type": "stream",
     "text": [
      "\u001b[1;36m2023\u001b[0m-\u001b[1;36m12\u001b[0m-\u001b[1;36m08\u001b[0m \u001b[1;92m14:52:22\u001b[0m,\u001b[1;36m972\u001b[0m - \u001b[1m{\u001b[0mpytorch_tabular.tabular_model:\u001b[1;36m540\u001b[0m\u001b[1m}\u001b[0m - INFO - Preparing\n",
      "the DataLoaders                                                                 \n",
      "\u001b[1;36m2023\u001b[0m-\u001b[1;36m12\u001b[0m-\u001b[1;36m08\u001b[0m \u001b[1;92m14:52:22\u001b[0m,\u001b[1;36m985\u001b[0m - \u001b[1m{\u001b[0mpytorch_tabular.tabular_datamodul\u001b[1;92me:484\u001b[0m\u001b[1m}\u001b[0m - INFO -     \n",
      "Setting up the datamodule for classification task                               \n",
      "\u001b[1;36m2023\u001b[0m-\u001b[1;36m12\u001b[0m-\u001b[1;36m08\u001b[0m \u001b[1;92m14:52:23\u001b[0m,\u001b[1;36m020\u001b[0m - \u001b[1m{\u001b[0mpytorch_tabular.tabular_model:\u001b[1;36m589\u001b[0m\u001b[1m}\u001b[0m - INFO - Preparing\n",
      "the Model: GANDALFModel                                                         \n",
      "\u001b[1;36m2023\u001b[0m-\u001b[1;36m12\u001b[0m-\u001b[1;36m08\u001b[0m \u001b[1;92m14:52:23\u001b[0m,\u001b[1;36m117\u001b[0m - \u001b[1m{\u001b[0mpytorch_tabular.tabular_model:\u001b[1;36m307\u001b[0m\u001b[1m}\u001b[0m - INFO - Preparing\n",
      "the Trainer                                                                     \n"
     ]
    },
    {
     "name": "stderr",
     "output_type": "stream",
     "text": [
      "/home/manujosephv/pytorch_tabular/src/pytorch_tabular/models/base_model.py:157: UserWarning: Wandb is not installed. Please install wandb to log logits. You can install wandb using pip install wandb or install PyTorch Tabular using pip install pytorch-tabular[all]\n",
      "  warnings.warn(\n",
      "/home/manujosephv/pytorch_tabular/src/pytorch_tabular/models/base_model.py:164: UserWarning: Plotly is not installed. Please install plotly to log logits. You can install plotly using pip install plotly or install PyTorch Tabular using pip install pytorch-tabular[all]\n",
      "  warnings.warn(\n",
      "GPU available: True (cuda), used: True\n",
      "TPU available: False, using: 0 TPU cores\n",
      "IPU available: False, using: 0 IPUs\n",
      "HPU available: False, using: 0 HPUs\n"
     ]
    },
    {
     "name": "stdout",
     "output_type": "stream",
     "text": [
      "\u001b[1;36m2023\u001b[0m-\u001b[1;36m12\u001b[0m-\u001b[1;36m08\u001b[0m \u001b[1;92m14:52:23\u001b[0m,\u001b[1;36m381\u001b[0m - \u001b[1m{\u001b[0mpytorch_tabular.tabular_model:\u001b[1;36m647\u001b[0m\u001b[1m}\u001b[0m - INFO - Auto LR  \n",
      "Find Started                                                                    \n"
     ]
    },
    {
     "name": "stderr",
     "output_type": "stream",
     "text": [
      "You are using a CUDA device ('NVIDIA GeForce RTX 3060 Laptop GPU') that has Tensor Cores. To properly utilize them, you should set `torch.set_float32_matmul_precision('medium' | 'high')` which will trade-off precision for performance. For more details, read https://pytorch.org/docs/stable/generated/torch.set_float32_matmul_precision.html#torch.set_float32_matmul_precision\n",
      "Missing logger folder: /home/manujosephv/pytorch_tabular/docs/tutorials/lightning_logs\n",
      "/home/manujosephv/miniconda3/envs/lightning_upgrade/lib/python3.11/site-packages/pytorch_lightning/callbacks/model_checkpoint.py:639: Checkpoint directory saved_models exists and is not empty.\n",
      "LOCAL_RANK: 0 - CUDA_VISIBLE_DEVICES: [0]\n",
      "/home/manujosephv/miniconda3/envs/lightning_upgrade/lib/python3.11/site-packages/pytorch_lightning/trainer/connectors/data_connector.py:441: The 'train_dataloader' does not have many workers which may be a bottleneck. Consider increasing the value of the `num_workers` argument` to `num_workers=19` in the `DataLoader` to improve performance.\n",
      "/home/manujosephv/miniconda3/envs/lightning_upgrade/lib/python3.11/site-packages/pytorch_lightning/loops/fit_loop.py:293: The number of training batches (6) is smaller than the logging interval Trainer(log_every_n_steps=50). Set a lower value for log_every_n_steps if you want to see logs for the training epoch.\n",
      "/home/manujosephv/miniconda3/envs/lightning_upgrade/lib/python3.11/site-packages/pytorch_lightning/trainer/connectors/data_connector.py:441: The 'val_dataloader' does not have many workers which may be a bottleneck. Consider increasing the value of the `num_workers` argument` to `num_workers=19` in the `DataLoader` to improve performance.\n"
     ]
    },
    {
     "data": {
      "application/vnd.jupyter.widget-view+json": {
       "model_id": "d8592b8fcd064210bf745042203ba658",
       "version_major": 2,
       "version_minor": 0
      },
      "text/plain": [
       "Finding best initial lr:   0%|          | 0/100 [00:00<?, ?it/s]"
      ]
     },
     "metadata": {},
     "output_type": "display_data"
    },
    {
     "name": "stderr",
     "output_type": "stream",
     "text": [
      "`Trainer.fit` stopped: `max_steps=100` reached.\n",
      "Learning rate set to 0.10964781961431852\n",
      "Restoring states from the checkpoint path at /home/manujosephv/pytorch_tabular/docs/tutorials/.lr_find_b3a77c19-ea23-4417-88df-1a95b508168a.ckpt\n",
      "Restored all states from the checkpoint at /home/manujosephv/pytorch_tabular/docs/tutorials/.lr_find_b3a77c19-ea23-4417-88df-1a95b508168a.ckpt\n"
     ]
    },
    {
     "name": "stdout",
     "output_type": "stream",
     "text": [
      "\u001b[1;36m2023\u001b[0m-\u001b[1;36m12\u001b[0m-\u001b[1;36m08\u001b[0m \u001b[1;92m14:52:27\u001b[0m,\u001b[1;36m574\u001b[0m - \u001b[1m{\u001b[0mpytorch_tabular.tabular_model:\u001b[1;36m651\u001b[0m\u001b[1m}\u001b[0m - INFO - Suggested\n",
      "LR: \u001b[1;36m0.10964781961431852\u001b[0m. For plot and detailed analysis, use                    \n",
      "`find_learning_rate` method.                                                    \n",
      "\u001b[1;36m2023\u001b[0m-\u001b[1;36m12\u001b[0m-\u001b[1;36m08\u001b[0m \u001b[1;92m14:52:27\u001b[0m,\u001b[1;36m575\u001b[0m - \u001b[1m{\u001b[0mpytorch_tabular.tabular_model:\u001b[1;36m658\u001b[0m\u001b[1m}\u001b[0m - INFO - Training \n",
      "Started                                                                         \n"
     ]
    },
    {
     "name": "stderr",
     "output_type": "stream",
     "text": [
      "LOCAL_RANK: 0 - CUDA_VISIBLE_DEVICES: [0]\n"
     ]
    },
    {
     "name": "stdout",
     "output_type": "stream",
     "text": [
      "┏━━━┳━━━━━━━━━━━━━━━━━━┳━━━━━━━━━━━━━━━━━━┳━━━━━━━━┓\n",
      "┃\u001b[1;35m \u001b[0m\u001b[1;35m \u001b[0m\u001b[1;35m \u001b[0m┃\u001b[1;35m \u001b[0m\u001b[1;35mName            \u001b[0m\u001b[1;35m \u001b[0m┃\u001b[1;35m \u001b[0m\u001b[1;35mType            \u001b[0m\u001b[1;35m \u001b[0m┃\u001b[1;35m \u001b[0m\u001b[1;35mParams\u001b[0m\u001b[1;35m \u001b[0m┃\n",
      "┡━━━╇━━━━━━━━━━━━━━━━━━╇━━━━━━━━━━━━━━━━━━╇━━━━━━━━┩\n",
      "│\u001b[2m \u001b[0m\u001b[2m0\u001b[0m\u001b[2m \u001b[0m│ _backbone        │ GANDALFBackbone  │ 14.5 K │\n",
      "│\u001b[2m \u001b[0m\u001b[2m1\u001b[0m\u001b[2m \u001b[0m│ _embedding_layer │ Embedding1dLayer │     92 │\n",
      "│\u001b[2m \u001b[0m\u001b[2m2\u001b[0m\u001b[2m \u001b[0m│ _head            │ Sequential       │     60 │\n",
      "│\u001b[2m \u001b[0m\u001b[2m3\u001b[0m\u001b[2m \u001b[0m│ loss             │ CrossEntropyLoss │      0 │\n",
      "└───┴──────────────────┴──────────────────┴────────┘\n",
      "\u001b[1mTrainable params\u001b[0m: 14.6 K                                                        \n",
      "\u001b[1mNon-trainable params\u001b[0m: 0                                                         \n",
      "\u001b[1mTotal params\u001b[0m: 14.6 K                                                            \n",
      "\u001b[1mTotal estimated model params size (MB)\u001b[0m: 0                                       \n"
     ]
    },
    {
     "data": {
      "application/vnd.jupyter.widget-view+json": {
       "model_id": "d27b88abeac140f18b6be7c181f62438",
       "version_major": 2,
       "version_minor": 0
      },
      "text/plain": [
       "Output()"
      ]
     },
     "metadata": {},
     "output_type": "display_data"
    },
    {
     "data": {
      "text/html": [
       "<pre style=\"white-space:pre;overflow-x:auto;line-height:normal;font-family:Menlo,'DejaVu Sans Mono',consolas,'Courier New',monospace\"></pre>\n"
      ],
      "text/plain": []
     },
     "metadata": {},
     "output_type": "display_data"
    },
    {
     "data": {
      "text/html": [
       "<pre style=\"white-space:pre;overflow-x:auto;line-height:normal;font-family:Menlo,'DejaVu Sans Mono',consolas,'Courier New',monospace\">\n",
       "</pre>\n"
      ],
      "text/plain": [
       "\n"
      ]
     },
     "metadata": {},
     "output_type": "display_data"
    },
    {
     "data": {
      "text/html": [
       "<pre style=\"white-space:pre;overflow-x:auto;line-height:normal;font-family:Menlo,'DejaVu Sans Mono',consolas,'Courier New',monospace\"><span style=\"color: #008080; text-decoration-color: #008080; font-weight: bold\">2023</span>-<span style=\"color: #008080; text-decoration-color: #008080; font-weight: bold\">12</span>-<span style=\"color: #008080; text-decoration-color: #008080; font-weight: bold\">08</span> <span style=\"color: #00ff00; text-decoration-color: #00ff00; font-weight: bold\">14:52:29</span>,<span style=\"color: #008080; text-decoration-color: #008080; font-weight: bold\">091</span> - <span style=\"font-weight: bold\">{</span>pytorch_tabular.tabular_model:<span style=\"color: #008080; text-decoration-color: #008080; font-weight: bold\">660</span><span style=\"font-weight: bold\">}</span> - INFO - Training the model completed                \n",
       "</pre>\n"
      ],
      "text/plain": [
       "\u001b[1;36m2023\u001b[0m-\u001b[1;36m12\u001b[0m-\u001b[1;36m08\u001b[0m \u001b[1;92m14:52:29\u001b[0m,\u001b[1;36m091\u001b[0m - \u001b[1m{\u001b[0mpytorch_tabular.tabular_model:\u001b[1;36m660\u001b[0m\u001b[1m}\u001b[0m - INFO - Training the model completed                \n"
      ]
     },
     "metadata": {},
     "output_type": "display_data"
    },
    {
     "data": {
      "text/html": [
       "<pre style=\"white-space:pre;overflow-x:auto;line-height:normal;font-family:Menlo,'DejaVu Sans Mono',consolas,'Courier New',monospace\"><span style=\"color: #008080; text-decoration-color: #008080; font-weight: bold\">2023</span>-<span style=\"color: #008080; text-decoration-color: #008080; font-weight: bold\">12</span>-<span style=\"color: #008080; text-decoration-color: #008080; font-weight: bold\">08</span> <span style=\"color: #00ff00; text-decoration-color: #00ff00; font-weight: bold\">14:52:29</span>,<span style=\"color: #008080; text-decoration-color: #008080; font-weight: bold\">092</span> - <span style=\"font-weight: bold\">{</span>pytorch_tabular.tabular_model:<span style=\"color: #008080; text-decoration-color: #008080; font-weight: bold\">1414</span><span style=\"font-weight: bold\">}</span> - INFO - Loading the best model                     \n",
       "</pre>\n"
      ],
      "text/plain": [
       "\u001b[1;36m2023\u001b[0m-\u001b[1;36m12\u001b[0m-\u001b[1;36m08\u001b[0m \u001b[1;92m14:52:29\u001b[0m,\u001b[1;36m092\u001b[0m - \u001b[1m{\u001b[0mpytorch_tabular.tabular_model:\u001b[1;36m1414\u001b[0m\u001b[1m}\u001b[0m - INFO - Loading the best model                     \n"
      ]
     },
     "metadata": {},
     "output_type": "display_data"
    },
    {
     "data": {
      "text/plain": [
       "<pytorch_lightning.trainer.trainer.Trainer at 0x7f5a318f1e10>"
      ]
     },
     "execution_count": 6,
     "metadata": {},
     "output_type": "execute_result"
    }
   ],
   "source": [
    "tabular_model.fit(train=train, validation=val)"
   ]
  },
  {
   "cell_type": "markdown",
   "metadata": {
    "Collapsed": "false"
   },
   "source": [
    "## Evaluating the Model"
   ]
  },
  {
   "cell_type": "code",
   "execution_count": 7,
   "metadata": {
    "Collapsed": "false"
   },
   "outputs": [
    {
     "name": "stderr",
     "output_type": "stream",
     "text": [
      "LOCAL_RANK: 0 - CUDA_VISIBLE_DEVICES: [0]\n"
     ]
    },
    {
     "data": {
      "application/vnd.jupyter.widget-view+json": {
       "model_id": "60d557f98c134349b161f50925c6e470",
       "version_major": 2,
       "version_minor": 0
      },
      "text/plain": [
       "Output()"
      ]
     },
     "metadata": {},
     "output_type": "display_data"
    },
    {
     "data": {
      "text/html": [
       "<pre style=\"white-space:pre;overflow-x:auto;line-height:normal;font-family:Menlo,'DejaVu Sans Mono',consolas,'Courier New',monospace\">┏━━━━━━━━━━━━━━━━━━━━━━━━━━━┳━━━━━━━━━━━━━━━━━━━━━━━━━━━┓\n",
       "┃<span style=\"font-weight: bold\">        Test metric        </span>┃<span style=\"font-weight: bold\">       DataLoader 0        </span>┃\n",
       "┡━━━━━━━━━━━━━━━━━━━━━━━━━━━╇━━━━━━━━━━━━━━━━━━━━━━━━━━━┩\n",
       "│<span style=\"color: #008080; text-decoration-color: #008080\">       test_accuracy       </span>│<span style=\"color: #800080; text-decoration-color: #800080\">    0.9296000003814697     </span>│\n",
       "│<span style=\"color: #008080; text-decoration-color: #008080\">         test_loss         </span>│<span style=\"color: #800080; text-decoration-color: #800080\">    0.19221389293670654    </span>│\n",
       "└───────────────────────────┴───────────────────────────┘\n",
       "</pre>\n"
      ],
      "text/plain": [
       "┏━━━━━━━━━━━━━━━━━━━━━━━━━━━┳━━━━━━━━━━━━━━━━━━━━━━━━━━━┓\n",
       "┃\u001b[1m \u001b[0m\u001b[1m       Test metric       \u001b[0m\u001b[1m \u001b[0m┃\u001b[1m \u001b[0m\u001b[1m      DataLoader 0       \u001b[0m\u001b[1m \u001b[0m┃\n",
       "┡━━━━━━━━━━━━━━━━━━━━━━━━━━━╇━━━━━━━━━━━━━━━━━━━━━━━━━━━┩\n",
       "│\u001b[36m \u001b[0m\u001b[36m      test_accuracy      \u001b[0m\u001b[36m \u001b[0m│\u001b[35m \u001b[0m\u001b[35m   0.9296000003814697    \u001b[0m\u001b[35m \u001b[0m│\n",
       "│\u001b[36m \u001b[0m\u001b[36m        test_loss        \u001b[0m\u001b[36m \u001b[0m│\u001b[35m \u001b[0m\u001b[35m   0.19221389293670654   \u001b[0m\u001b[35m \u001b[0m│\n",
       "└───────────────────────────┴───────────────────────────┘\n"
      ]
     },
     "metadata": {},
     "output_type": "display_data"
    },
    {
     "name": "stderr",
     "output_type": "stream",
     "text": [
      "/home/manujosephv/miniconda3/envs/lightning_upgrade/lib/python3.11/site-packages/pytorch_lightning/trainer/connectors/data_connector.py:441: The 'test_dataloader' does not have many workers which may be a bottleneck. Consider increasing the value of the `num_workers` argument` to `num_workers=19` in the `DataLoader` to improve performance.\n"
     ]
    },
    {
     "data": {
      "text/html": [
       "<pre style=\"white-space:pre;overflow-x:auto;line-height:normal;font-family:Menlo,'DejaVu Sans Mono',consolas,'Courier New',monospace\"></pre>\n"
      ],
      "text/plain": []
     },
     "metadata": {},
     "output_type": "display_data"
    },
    {
     "data": {
      "text/html": [
       "<pre style=\"white-space:pre;overflow-x:auto;line-height:normal;font-family:Menlo,'DejaVu Sans Mono',consolas,'Courier New',monospace\">\n",
       "</pre>\n"
      ],
      "text/plain": [
       "\n"
      ]
     },
     "metadata": {},
     "output_type": "display_data"
    }
   ],
   "source": [
    "result = tabular_model.evaluate(test)"
   ]
  },
  {
   "cell_type": "markdown",
   "metadata": {},
   "source": [
    "## Native Global Feature Importance"
   ]
  },
  {
   "cell_type": "markdown",
   "metadata": {},
   "source": [
    "Some models like GANDALF, GATE, and FTTransformer have native feature importance, similar to the feature importance you get with GDBTs. "
   ]
  },
  {
   "cell_type": "code",
   "execution_count": 9,
   "metadata": {},
   "outputs": [
    {
     "data": {
      "text/html": [
       "<div>\n",
       "<style scoped>\n",
       "    .dataframe tbody tr th:only-of-type {\n",
       "        vertical-align: middle;\n",
       "    }\n",
       "\n",
       "    .dataframe tbody tr th {\n",
       "        vertical-align: top;\n",
       "    }\n",
       "\n",
       "    .dataframe thead th {\n",
       "        text-align: right;\n",
       "    }\n",
       "</style>\n",
       "<table border=\"1\" class=\"dataframe\">\n",
       "  <thead>\n",
       "    <tr style=\"text-align: right;\">\n",
       "      <th></th>\n",
       "      <th>Features</th>\n",
       "      <th>importance</th>\n",
       "    </tr>\n",
       "  </thead>\n",
       "  <tbody>\n",
       "    <tr>\n",
       "      <th>4</th>\n",
       "      <td>num_col_1</td>\n",
       "      <td>1.000000e+00</td>\n",
       "    </tr>\n",
       "    <tr>\n",
       "      <th>16</th>\n",
       "      <td>num_col_15</td>\n",
       "      <td>1.000000e+00</td>\n",
       "    </tr>\n",
       "    <tr>\n",
       "      <th>3</th>\n",
       "      <td>cat_col_19</td>\n",
       "      <td>3.333333e-01</td>\n",
       "    </tr>\n",
       "    <tr>\n",
       "      <th>17</th>\n",
       "      <td>num_col_16</td>\n",
       "      <td>1.651433e-08</td>\n",
       "    </tr>\n",
       "    <tr>\n",
       "      <th>8</th>\n",
       "      <td>num_col_6</td>\n",
       "      <td>1.566230e-08</td>\n",
       "    </tr>\n",
       "    <tr>\n",
       "      <th>19</th>\n",
       "      <td>num_col_18</td>\n",
       "      <td>1.281001e-08</td>\n",
       "    </tr>\n",
       "    <tr>\n",
       "      <th>15</th>\n",
       "      <td>num_col_14</td>\n",
       "      <td>1.087461e-08</td>\n",
       "    </tr>\n",
       "    <tr>\n",
       "      <th>12</th>\n",
       "      <td>num_col_10</td>\n",
       "      <td>1.028104e-08</td>\n",
       "    </tr>\n",
       "    <tr>\n",
       "      <th>9</th>\n",
       "      <td>num_col_7</td>\n",
       "      <td>9.910396e-09</td>\n",
       "    </tr>\n",
       "    <tr>\n",
       "      <th>13</th>\n",
       "      <td>num_col_12</td>\n",
       "      <td>9.886777e-09</td>\n",
       "    </tr>\n",
       "    <tr>\n",
       "      <th>1</th>\n",
       "      <td>cat_col_2</td>\n",
       "      <td>9.271860e-09</td>\n",
       "    </tr>\n",
       "    <tr>\n",
       "      <th>11</th>\n",
       "      <td>num_col_9</td>\n",
       "      <td>8.941933e-09</td>\n",
       "    </tr>\n",
       "    <tr>\n",
       "      <th>18</th>\n",
       "      <td>num_col_17</td>\n",
       "      <td>8.900914e-09</td>\n",
       "    </tr>\n",
       "    <tr>\n",
       "      <th>14</th>\n",
       "      <td>num_col_13</td>\n",
       "      <td>8.058143e-09</td>\n",
       "    </tr>\n",
       "    <tr>\n",
       "      <th>0</th>\n",
       "      <td>cat_col_0</td>\n",
       "      <td>7.194320e-09</td>\n",
       "    </tr>\n",
       "    <tr>\n",
       "      <th>2</th>\n",
       "      <td>cat_col_11</td>\n",
       "      <td>7.108890e-09</td>\n",
       "    </tr>\n",
       "    <tr>\n",
       "      <th>7</th>\n",
       "      <td>num_col_5</td>\n",
       "      <td>6.587858e-09</td>\n",
       "    </tr>\n",
       "    <tr>\n",
       "      <th>6</th>\n",
       "      <td>num_col_4</td>\n",
       "      <td>6.296093e-09</td>\n",
       "    </tr>\n",
       "    <tr>\n",
       "      <th>5</th>\n",
       "      <td>num_col_3</td>\n",
       "      <td>5.305382e-09</td>\n",
       "    </tr>\n",
       "    <tr>\n",
       "      <th>10</th>\n",
       "      <td>num_col_8</td>\n",
       "      <td>4.995707e-09</td>\n",
       "    </tr>\n",
       "  </tbody>\n",
       "</table>\n",
       "</div>"
      ],
      "text/plain": [
       "      Features    importance\n",
       "4    num_col_1  1.000000e+00\n",
       "16  num_col_15  1.000000e+00\n",
       "3   cat_col_19  3.333333e-01\n",
       "17  num_col_16  1.651433e-08\n",
       "8    num_col_6  1.566230e-08\n",
       "19  num_col_18  1.281001e-08\n",
       "15  num_col_14  1.087461e-08\n",
       "12  num_col_10  1.028104e-08\n",
       "9    num_col_7  9.910396e-09\n",
       "13  num_col_12  9.886777e-09\n",
       "1    cat_col_2  9.271860e-09\n",
       "11   num_col_9  8.941933e-09\n",
       "18  num_col_17  8.900914e-09\n",
       "14  num_col_13  8.058143e-09\n",
       "0    cat_col_0  7.194320e-09\n",
       "2   cat_col_11  7.108890e-09\n",
       "7    num_col_5  6.587858e-09\n",
       "6    num_col_4  6.296093e-09\n",
       "5    num_col_3  5.305382e-09\n",
       "10   num_col_8  4.995707e-09"
      ]
     },
     "execution_count": 9,
     "metadata": {},
     "output_type": "execute_result"
    }
   ],
   "source": [
    "tabular_model.feature_importance().sort_values(\"importance\", ascending=False)"
   ]
  },
  {
   "cell_type": "code",
   "execution_count": 76,
   "metadata": {},
   "outputs": [
    {
     "data": {
      "text/plain": [
       "<Axes: >"
      ]
     },
     "execution_count": 76,
     "metadata": {},
     "output_type": "execute_result"
    },
    {
     "data": {
      "image/png": "[encoded data removed]",
      "text/plain": [
       "<Figure size 640x480 with 1 Axes>"
      ]
     },
     "metadata": {},
     "output_type": "display_data"
    }
   ],
   "source": [
    "#bar plot, top 10 features\n",
    "tabular_model.feature_importance().sort_values(\"importance\", ascending=False).head(10).plot.bar(logy=True)"
   ]
  },
  {
   "cell_type": "markdown",
   "metadata": {},
   "source": [
    "## Local Feature Attributions\n",
    "\n",
    "We can also use techniques like SHAP to get local feature attributions. This is a very powerful technique to explain the predictions of the model. We can use the `explain` method to get the local feature attributions for a given input.\n",
    "\n",
    "`PyTorch Tabular` supports these methods from `captum` for all models except Tabnet, TabTransformer, and MDN:\n",
    "\n",
    "\n",
    "- GradientShap: https://captum.ai/api/gradient_shap.html\n",
    "- IntegratedGradients: https://captum.ai/api/integrated_gradients.html\n",
    "- DeepLift: https://captum.ai/api/deep_lift.html\n",
    "- DeepLiftShap: https://captum.ai/api/deep_lift_shap.html\n",
    "- InputXGradient: https://captum.ai/api/input_x_gradient.html\n",
    "- FeaturePermutation: https://captum.ai/api/feature_permutation.html\n",
    "- FeatureAblation: https://captum.ai/api/feature_ablation.html\n",
    "- KernelShap: https://captum.ai/api/kernel_shap.html\n",
    "\n",
    "`PyTorch Tabular` also supports explaining single instances as well as batches of instances. But, larger datasets will take longer to explain. An exception is the `FeaturePermutation` and `FeatureAblation` methods, which is only meaningful for large batches of instances.\n",
    "\n",
    "Most of these explainability methods require a baseline. This is used to compare the attributions of the input with the attributions of the baseline. The baseline can be a scalar value, a tensor of the same shape as the input, or a special string like \"b|100\" which means 100 samples from the training data. If the baseline is not provided, the default baseline (zero) is used."
   ]
  },
  {
   "cell_type": "markdown",
   "metadata": {},
   "source": [
    "### Single Instance"
   ]
  },
  {
   "cell_type": "code",
   "execution_count": 58,
   "metadata": {},
   "outputs": [],
   "source": [
    "exp = tabular_model.explain(test.head(1), method=\"GradientShap\", baselines=\"b|10000\")"
   ]
  },
  {
   "cell_type": "code",
   "execution_count": 59,
   "metadata": {},
   "outputs": [],
   "source": [
    "exp = exp.T.sort_values(0, ascending=False)\n",
    "exp.columns = ['GradientSHAP']\n",
    "exp.index.name=\"Features\"\n",
    "exp.reset_index(inplace=True)\n",
    "exp['colors'] = \"red\"\n",
    "exp.loc[exp[\"GradientSHAP\"]>0, \"colors\"] = \"green\""
   ]
  },
  {
   "cell_type": "code",
   "execution_count": 60,
   "metadata": {},
   "outputs": [
    {
     "data": {
      "image/png": "[encoded data removed]",
      "text/plain": [
       "<Figure size 1120x800 with 1 Axes>"
      ]
     },
     "metadata": {},
     "output_type": "display_data"
    }
   ],
   "source": [
    "\n",
    "# Draw plot \n",
    "plt.figure(figsize=(14, 10), dpi=80) \n",
    "  \n",
    "# Plotting the horizontal lines \n",
    "plt.hlines(y=exp.index, linewidth=5, xmin=0, xmax=exp.GradientSHAP, colors=exp.colors.values, alpha=0.5)\n",
    "# Decorations \n",
    "# Setting the labels of x-axis and y-axis \n",
    "plt.gca().set(ylabel='Features', xlabel='GradientSHAP') \n",
    "  \n",
    "# Setting Date to y-axis \n",
    "plt.yticks(exp.index, exp.Features, fontsize=12) \n",
    "  \n",
    "# Title of Bar Chart \n",
    "plt.title('GradientSHAP Local Explanation', fontdict={ \n",
    "          'size': 20}) \n",
    "  \n",
    "# Optional grid layout \n",
    "plt.grid(linestyle='--', alpha=0.5) \n",
    "  \n",
    "# Displaying the Diverging Bar Chart \n",
    "plt.show() "
   ]
  },
  {
   "cell_type": "markdown",
   "metadata": {},
   "source": [
    "### Multiple Instances"
   ]
  },
  {
   "cell_type": "code",
   "execution_count": 61,
   "metadata": {},
   "outputs": [],
   "source": [
    "exp = tabular_model.explain(test[test.cat_col_19==3], method=\"GradientShap\", baselines=\"b|10000\")"
   ]
  },
  {
   "cell_type": "code",
   "execution_count": 77,
   "metadata": {},
   "outputs": [
    {
     "data": {
      "text/html": [
       "<div>\n",
       "<style scoped>\n",
       "    .dataframe tbody tr th:only-of-type {\n",
       "        vertical-align: middle;\n",
       "    }\n",
       "\n",
       "    .dataframe tbody tr th {\n",
       "        vertical-align: top;\n",
       "    }\n",
       "\n",
       "    .dataframe thead th {\n",
       "        text-align: right;\n",
       "    }\n",
       "</style>\n",
       "<table border=\"1\" class=\"dataframe\">\n",
       "  <thead>\n",
       "    <tr style=\"text-align: right;\">\n",
       "      <th></th>\n",
       "      <th>num_col_1</th>\n",
       "      <th>num_col_3</th>\n",
       "      <th>num_col_4</th>\n",
       "      <th>num_col_5</th>\n",
       "      <th>num_col_6</th>\n",
       "      <th>num_col_7</th>\n",
       "      <th>num_col_8</th>\n",
       "      <th>num_col_9</th>\n",
       "      <th>num_col_10</th>\n",
       "      <th>num_col_12</th>\n",
       "      <th>num_col_13</th>\n",
       "      <th>num_col_14</th>\n",
       "      <th>num_col_15</th>\n",
       "      <th>num_col_16</th>\n",
       "      <th>num_col_17</th>\n",
       "      <th>num_col_18</th>\n",
       "      <th>cat_col_0</th>\n",
       "      <th>cat_col_2</th>\n",
       "      <th>cat_col_11</th>\n",
       "      <th>cat_col_19</th>\n",
       "    </tr>\n",
       "  </thead>\n",
       "  <tbody>\n",
       "    <tr>\n",
       "      <th>0</th>\n",
       "      <td>0.181638</td>\n",
       "      <td>0.391463</td>\n",
       "      <td>-0.288542</td>\n",
       "      <td>0.866874</td>\n",
       "      <td>0.069802</td>\n",
       "      <td>0.002030</td>\n",
       "      <td>0.359382</td>\n",
       "      <td>-0.158450</td>\n",
       "      <td>-0.042014</td>\n",
       "      <td>0.134169</td>\n",
       "      <td>0.110338</td>\n",
       "      <td>-0.073405</td>\n",
       "      <td>0.019971</td>\n",
       "      <td>0.055664</td>\n",
       "      <td>0.048078</td>\n",
       "      <td>-0.069901</td>\n",
       "      <td>-0.233139</td>\n",
       "      <td>0.149520</td>\n",
       "      <td>-0.088944</td>\n",
       "      <td>-0.172214</td>\n",
       "    </tr>\n",
       "    <tr>\n",
       "      <th>1</th>\n",
       "      <td>0.850393</td>\n",
       "      <td>0.998055</td>\n",
       "      <td>0.028590</td>\n",
       "      <td>0.057088</td>\n",
       "      <td>0.020867</td>\n",
       "      <td>-0.003221</td>\n",
       "      <td>0.002015</td>\n",
       "      <td>-0.576683</td>\n",
       "      <td>0.155946</td>\n",
       "      <td>-0.493926</td>\n",
       "      <td>0.115358</td>\n",
       "      <td>-0.347492</td>\n",
       "      <td>-0.064912</td>\n",
       "      <td>-0.118276</td>\n",
       "      <td>0.319102</td>\n",
       "      <td>0.017092</td>\n",
       "      <td>1.515452</td>\n",
       "      <td>0.142387</td>\n",
       "      <td>0.042492</td>\n",
       "      <td>-0.027000</td>\n",
       "    </tr>\n",
       "    <tr>\n",
       "      <th>2</th>\n",
       "      <td>-0.456903</td>\n",
       "      <td>0.548388</td>\n",
       "      <td>-0.051724</td>\n",
       "      <td>1.529312</td>\n",
       "      <td>-0.005730</td>\n",
       "      <td>-0.006423</td>\n",
       "      <td>-0.058475</td>\n",
       "      <td>0.025674</td>\n",
       "      <td>0.363776</td>\n",
       "      <td>-0.259362</td>\n",
       "      <td>0.012468</td>\n",
       "      <td>-0.342987</td>\n",
       "      <td>0.039702</td>\n",
       "      <td>-0.105502</td>\n",
       "      <td>0.080233</td>\n",
       "      <td>-0.066426</td>\n",
       "      <td>-0.175915</td>\n",
       "      <td>0.058416</td>\n",
       "      <td>0.039881</td>\n",
       "      <td>-0.167353</td>\n",
       "    </tr>\n",
       "    <tr>\n",
       "      <th>3</th>\n",
       "      <td>-0.120079</td>\n",
       "      <td>0.401902</td>\n",
       "      <td>-0.011365</td>\n",
       "      <td>1.458246</td>\n",
       "      <td>-0.046081</td>\n",
       "      <td>-0.001651</td>\n",
       "      <td>0.017665</td>\n",
       "      <td>1.020984</td>\n",
       "      <td>0.502747</td>\n",
       "      <td>-1.010814</td>\n",
       "      <td>-0.245685</td>\n",
       "      <td>1.061822</td>\n",
       "      <td>0.112867</td>\n",
       "      <td>0.070102</td>\n",
       "      <td>0.430361</td>\n",
       "      <td>-0.281425</td>\n",
       "      <td>-0.079304</td>\n",
       "      <td>-0.426460</td>\n",
       "      <td>-0.298247</td>\n",
       "      <td>0.408934</td>\n",
       "    </tr>\n",
       "    <tr>\n",
       "      <th>4</th>\n",
       "      <td>3.442730</td>\n",
       "      <td>1.517699</td>\n",
       "      <td>0.003402</td>\n",
       "      <td>-5.255832</td>\n",
       "      <td>-0.049715</td>\n",
       "      <td>0.014016</td>\n",
       "      <td>-0.028709</td>\n",
       "      <td>0.446060</td>\n",
       "      <td>0.028204</td>\n",
       "      <td>0.316919</td>\n",
       "      <td>0.861432</td>\n",
       "      <td>1.093038</td>\n",
       "      <td>-0.015613</td>\n",
       "      <td>0.150772</td>\n",
       "      <td>-0.075140</td>\n",
       "      <td>-0.550907</td>\n",
       "      <td>-2.511157</td>\n",
       "      <td>1.605713</td>\n",
       "      <td>-0.424531</td>\n",
       "      <td>-0.104891</td>\n",
       "    </tr>\n",
       "  </tbody>\n",
       "</table>\n",
       "</div>"
      ],
      "text/plain": [
       "   num_col_1  num_col_3  num_col_4  num_col_5  num_col_6  num_col_7  \\\n",
       "0   0.181638   0.391463  -0.288542   0.866874   0.069802   0.002030   \n",
       "1   0.850393   0.998055   0.028590   0.057088   0.020867  -0.003221   \n",
       "2  -0.456903   0.548388  -0.051724   1.529312  -0.005730  -0.006423   \n",
       "3  -0.120079   0.401902  -0.011365   1.458246  -0.046081  -0.001651   \n",
       "4   3.442730   1.517699   0.003402  -5.255832  -0.049715   0.014016   \n",
       "\n",
       "   num_col_8  num_col_9  num_col_10  num_col_12  num_col_13  num_col_14  \\\n",
       "0   0.359382  -0.158450   -0.042014    0.134169    0.110338   -0.073405   \n",
       "1   0.002015  -0.576683    0.155946   -0.493926    0.115358   -0.347492   \n",
       "2  -0.058475   0.025674    0.363776   -0.259362    0.012468   -0.342987   \n",
       "3   0.017665   1.020984    0.502747   -1.010814   -0.245685    1.061822   \n",
       "4  -0.028709   0.446060    0.028204    0.316919    0.861432    1.093038   \n",
       "\n",
       "   num_col_15  num_col_16  num_col_17  num_col_18  cat_col_0  cat_col_2  \\\n",
       "0    0.019971    0.055664    0.048078   -0.069901  -0.233139   0.149520   \n",
       "1   -0.064912   -0.118276    0.319102    0.017092   1.515452   0.142387   \n",
       "2    0.039702   -0.105502    0.080233   -0.066426  -0.175915   0.058416   \n",
       "3    0.112867    0.070102    0.430361   -0.281425  -0.079304  -0.426460   \n",
       "4   -0.015613    0.150772   -0.075140   -0.550907  -2.511157   1.605713   \n",
       "\n",
       "   cat_col_11  cat_col_19  \n",
       "0   -0.088944   -0.172214  \n",
       "1    0.042492   -0.027000  \n",
       "2    0.039881   -0.167353  \n",
       "3   -0.298247    0.408934  \n",
       "4   -0.424531   -0.104891  "
      ]
     },
     "execution_count": 77,
     "metadata": {},
     "output_type": "execute_result"
    }
   ],
   "source": [
    "exp.head()"
   ]
  },
  {
   "cell_type": "code",
   "execution_count": 74,
   "metadata": {},
   "outputs": [],
   "source": [
    "exp_agg = exp.abs().sum().to_frame()\n",
    "exp_agg = exp_agg.sort_values(0, ascending=True)\n",
    "exp_agg.columns = ['GradientSHAP']\n",
    "exp_agg.index.name=\"Features\"\n",
    "exp_agg.reset_index(inplace=True)\n",
    "exp_agg['colors'] = \"red\"\n",
    "exp_agg.loc[exp_agg[\"GradientSHAP\"]>0, \"colors\"] = \"green\""
   ]
  },
  {
   "cell_type": "code",
   "execution_count": 75,
   "metadata": {},
   "outputs": [
    {
     "data": {
      "image/png": "[encoded data removed]",
      "text/plain": [
       "<Figure size 1120x800 with 1 Axes>"
      ]
     },
     "metadata": {},
     "output_type": "display_data"
    }
   ],
   "source": [
    "\n",
    "# Draw plot \n",
    "plt.figure(figsize=(14, 10), dpi=80) \n",
    "  \n",
    "# Plotting the horizontal lines \n",
    "plt.hlines(y=exp_agg.index, linewidth=5, xmin=0, xmax=exp_agg.GradientSHAP, colors=exp_agg.colors.values, alpha=0.5)\n",
    "# Decorations \n",
    "# Setting the labels of x-axis and y-axis \n",
    "plt.gca().set(ylabel='Features', xlabel='GradientSHAP') \n",
    "  \n",
    "# Setting Date to y-axis \n",
    "plt.yticks(exp_agg.index, exp_agg.Features, fontsize=12) \n",
    "  \n",
    "# Title of Bar Chart \n",
    "plt.title('GradientSHAP Global Explanation', fontdict={ \n",
    "          'size': 20}) \n",
    "  \n",
    "# Optional grid layout \n",
    "plt.grid(linestyle='--', alpha=0.5) \n",
    "  \n",
    "# Displaying the Diverging Bar Chart \n",
    "plt.show() "
   ]
  },
  {
   "cell_type": "code",
   "execution_count": null,
   "metadata": {},
   "outputs": [],
   "source": []
  }
 ],
 "metadata": {
  "kernelspec": {
   "display_name": "Python 3 (ipykernel)",
   "language": "python",
   "name": "python3"
  },
  "language_info": {
   "codemirror_mode": {
    "name": "ipython",
    "version": 3
   },
   "file_extension": ".py",
   "mimetype": "text/x-python",
   "name": "python",
   "nbconvert_exporter": "python",
   "pygments_lexer": "ipython3",
   "version": "3.11.5"
  },
  "vscode": {
   "interpreter": {
    "hash": "c1644b008eb6c88a0ca3600445c5d81cce1a68be89616a3704b32e9da15a977e"
   }
  }
 },
 "nbformat": 4,
 "nbformat_minor": 4
}
