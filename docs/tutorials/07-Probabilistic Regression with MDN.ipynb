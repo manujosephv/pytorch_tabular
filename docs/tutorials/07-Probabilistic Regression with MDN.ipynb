{
 "cells": [
  {
   "cell_type": "code",
   "execution_count": 10,
   "source": [
    "import os\r\n",
    "try:\r\n",
    "  import google.colab\r\n",
    "  IN_COLAB = True\r\n",
    "except:\r\n",
    "  IN_COLAB = False\r\n",
    "if not IN_COLAB:\r\n",
    "    os.chdir(\"..\")\r\n",
    "import random\r\n",
    "import numpy as np\r\n",
    "import pandas as pd\r\n",
    "from sklearn.metrics import mean_squared_error\r\n",
    "from sklearn.model_selection import train_test_split\r\n",
    "from sklearn.preprocessing import MinMaxScaler\r\n",
    "import plotly.express as px\r\n",
    "import plotly.graph_objs as go\r\n",
    "from plotly.offline import init_notebook_mode\r\n",
    "%load_ext autoreload\r\n",
    "%autoreload 2"
   ],
   "outputs": [],
   "metadata": {
    "tags": []
   }
  },
  {
   "cell_type": "code",
   "execution_count": 2,
   "source": [
    "from IPython.display import Math"
   ],
   "outputs": [],
   "metadata": {}
  },
  {
   "cell_type": "code",
   "execution_count": 11,
   "source": [
    "from pytorch_tabular import TabularModel\r\n",
    "from pytorch_tabular.models import (\r\n",
    "    CategoryEmbeddingModelConfig,\r\n",
    "    NodeConfig,\r\n",
    "    TabNetModelConfig,\r\n",
    "    CategoryEmbeddingMDNConfig,\r\n",
    "    MixtureDensityHeadConfig,\r\n",
    "    NODEMDNConfig,\r\n",
    ")\r\n",
    "from pytorch_tabular.config import (\r\n",
    "    DataConfig,\r\n",
    "    OptimizerConfig,\r\n",
    "    TrainerConfig,\r\n",
    "    ExperimentConfig,\r\n",
    ")\r\n",
    "from pytorch_tabular.categorical_encoders import CategoricalEmbeddingTransformer"
   ],
   "outputs": [],
   "metadata": {}
  },
  {
   "cell_type": "markdown",
   "source": [
    "# Utility Functions"
   ],
   "metadata": {
    "heading_collapsed": "true",
    "tags": []
   }
  },
  {
   "cell_type": "code",
   "execution_count": 160,
   "source": [
    "def generate_linear_example(samples=int(1e5)):\n",
    "    x_data = np.random.sample(samples)[:, np.newaxis].astype(np.float32)\n",
    "    y_data = np.add(5*x_data, np.multiply((x_data)**2, np.random.standard_normal(x_data.shape)))\n",
    "\n",
    "    x_train, x_valid, y_train, y_valid = train_test_split(x_data, y_data, test_size=0.5, random_state=42)\n",
    "    x_test = np.linspace(0.,1.,int(1e3))[:, np.newaxis].astype(np.float32)\n",
    "    df_train = pd.DataFrame({\"col1\": x_train.ravel(), \"target\": y_train.ravel()})\n",
    "    df_valid = pd.DataFrame({\"col1\": x_valid.ravel(), \"target\": y_valid.ravel()})\n",
    "    # test = sorted(df_valid.col1.round(3).unique())\n",
    "    # df_test = pd.DataFrame({\"col1\": test})\n",
    "    df_test = pd.DataFrame({\"col1\": x_test.ravel()})\n",
    "    return (df_train, df_valid, df_test, [\"target\"])\n",
    "\n",
    "def generate_non_linear_example(samples=int(1e5)):\n",
    "    x_data = np.float32(np.random.uniform(-10, 10, (1, samples)))\n",
    "    r_data = np.array([np.random.normal(scale=np.abs(i)) for i in x_data])\n",
    "    y_data = np.float32(np.square(x_data)+r_data*2.0)\n",
    "\n",
    "    x_data2 = np.float32(np.random.uniform(-10, 10, (1, samples)))\n",
    "    r_data2 = np.array([np.random.normal(scale=np.abs(i)) for i in x_data2])\n",
    "    y_data2 = np.float32(-np.square(x_data2)+r_data2*2.0)\n",
    "\n",
    "    x_data = np.concatenate((x_data,x_data2),axis=1).T\n",
    "    y_data = np.concatenate((y_data,y_data2),axis=1).T\n",
    "\n",
    "    min_max_scaler = MinMaxScaler()\n",
    "    y_data = min_max_scaler.fit_transform(y_data)\n",
    "\n",
    "    x_train, x_valid, y_train, y_valid = train_test_split(x_data, y_data, test_size=0.5, random_state=42, shuffle=True)\n",
    "    x_test = np.linspace(-10,10,int(1e3))[:, np.newaxis].astype(np.float32)\n",
    "    df_train = pd.DataFrame({\"col1\": x_train.ravel(), \"target\": y_train.ravel()})\n",
    "    df_valid = pd.DataFrame({\"col1\": x_valid.ravel(), \"target\": y_valid.ravel()})\n",
    "    # test = sorted(df_valid.col1.round(3).unique())\n",
    "    # df_test = pd.DataFrame({\"col1\": test})\n",
    "    df_test = pd.DataFrame({\"col1\": x_test.ravel()})\n",
    "    return (df_train, df_valid, df_test, [\"target\"])\n",
    "\n",
    "def generate_step_linear_example(samples=int(1e5)):\n",
    "    x_data = np.random.sample(samples)[:, np.newaxis].astype(np.float32)\n",
    "    y_data = np.zeros(x_data.shape)\n",
    "    mask = x_data<0.5\n",
    "    y_data[mask] = np.add(5*x_data[mask], np.multiply((x_data[mask])**2, np.random.standard_normal(x_data[mask].shape)))\n",
    "    y_data[~mask] = np.add(100*x_data[~mask]+x_data[~mask]**2 , np.multiply((x_data[~mask])**2, np.random.standard_normal(x_data[~mask].shape)))\n",
    "    min_max_scaler = MinMaxScaler()\n",
    "    y_data = min_max_scaler.fit_transform(y_data)\n",
    "\n",
    "    x_train, x_valid, y_train, y_valid = train_test_split(x_data, y_data, test_size=0.5, random_state=42, shuffle=True)\n",
    "    x_test = np.linspace(0.,1.,int(1e3))[:, np.newaxis].astype(np.float32)\n",
    "    df_train = pd.DataFrame({\"col1\": x_train.ravel(), \"target\": y_train.ravel()})\n",
    "    df_valid = pd.DataFrame({\"col1\": x_valid.ravel(), \"target\": y_valid.ravel()})\n",
    "    # test = sorted(df_valid.col1.round(3).unique())\n",
    "    # df_test = pd.DataFrame({\"col1\": test})\n",
    "    df_test = pd.DataFrame({\"col1\": x_test.ravel()})\n",
    "    return (df_train, df_valid, df_test, [\"target\"])\n",
    "\n",
    "def generate_gaussian_mixture(samples=int(1e5)):\n",
    "    x_data = np.random.sample(samples)[:, np.newaxis].astype(np.float32)\n",
    "    pi = np.sin(x_data)+3*x_data*np.cos(x_data)\n",
    "    pi = pi/pi.max()\n",
    "    # g1 = np.random.sample(samples)*4*x_data.squeeze()\n",
    "    # g2 = np.random.sample(samples)*15*x_data.squeeze()\n",
    "    g1 = 2*x_data.squeeze() + 0.5*np.random.sample(samples)\n",
    "    g2 = 8*x_data.squeeze() + 0.5*np.random.sample(samples)\n",
    "\n",
    "    y_data = pi.round().squeeze()*g1 + (1-pi.round().squeeze())*g2\n",
    "    y_data = y_data.reshape(-1,1)\n",
    "    x_train, x_valid, y_train, y_valid = train_test_split(x_data, y_data, test_size=0.5, random_state=42)\n",
    "    x_test = np.linspace(0.,1.,int(1e3))[:, np.newaxis].astype(np.float32)\n",
    "    df_train = pd.DataFrame({\"col1\": x_train.ravel(), \"target\": y_train.ravel()})\n",
    "    df_valid = pd.DataFrame({\"col1\": x_valid.ravel(), \"target\": y_valid.ravel()})\n",
    "    # test = sorted(df_valid.col1.round(3).unique())\n",
    "    # df_test = pd.DataFrame({\"col1\": test})\n",
    "    df_test = pd.DataFrame({\"col1\": x_test.ravel()})\n",
    "    return (df_train, df_valid, df_test, [\"target\"])"
   ],
   "outputs": [],
   "metadata": {
    "hidden": true
   }
  },
  {
   "cell_type": "markdown",
   "source": [
    "# Linear Example "
   ],
   "metadata": {
    "tags": []
   }
  },
  {
   "cell_type": "code",
   "execution_count": 5,
   "source": [
    "df_train, df_valid, df_test, target_col = generate_linear_example()"
   ],
   "outputs": [],
   "metadata": {
    "hidden": true
   }
  },
  {
   "cell_type": "markdown",
   "source": [
    "## Plot"
   ],
   "metadata": {
    "hidden": true,
    "tags": []
   }
  },
  {
   "cell_type": "code",
   "execution_count": null,
   "source": [
    "# display(Math(r\"$y = 5x + (x^2 * \\epsilon)$\"+\"\\n\"+r\"$\\epsilon \\backsim \\mathcal{N}(0,1)$\"))\n",
    "fig = px.scatter(df_train, x=\"col1\", y=\"target\", title=r\"$y = 5x + (x^2 * \\epsilon)$\"+\"\\n\"+r\"$\\epsilon \\backsim \\mathcal{N}(0,1)$\")\n",
    "fig.update_layout(\n",
    "    title={\n",
    "        'y':0.9,\n",
    "        'x':0.5,\n",
    "        'xanchor': 'center',\n",
    "        'yanchor': 'top'})\n",
    "fig"
   ],
   "outputs": [],
   "metadata": {
    "hidden": true
   }
  },
  {
   "cell_type": "markdown",
   "source": [
    "![](imgs/prob_reg_eq_1.png)\n",
    "![](imgs/prob_reg_fig_1.png)"
   ],
   "metadata": {}
  },
  {
   "cell_type": "code",
   "execution_count": null,
   "source": [
    "px.histogram(df_train, x=\"target\", title=\"Histogram\")"
   ],
   "outputs": [],
   "metadata": {
    "hidden": true
   }
  },
  {
   "cell_type": "markdown",
   "source": [
    "![](imgs/prob_reg_hist_1.png)"
   ],
   "metadata": {}
  },
  {
   "cell_type": "markdown",
   "source": [
    "## Training the MDN"
   ],
   "metadata": {
    "hidden": true,
    "tags": []
   }
  },
  {
   "cell_type": "markdown",
   "source": [
    "### Define the Configs"
   ],
   "metadata": {
    "hidden": true,
    "tags": []
   }
  },
  {
   "cell_type": "code",
   "execution_count": 8,
   "source": [
    "epochs = 15\n",
    "batch_size = 128\n",
    "steps_per_epoch = int((len(df_train)//batch_size)*0.9)\n",
    "data_config = DataConfig(\n",
    "    target=['target'],\n",
    "    continuous_cols=['col1'],\n",
    "    categorical_cols=[],\n",
    "#         continuous_feature_transform=\"quantile_uniform\"\n",
    ")\n",
    "trainer_config = TrainerConfig(\n",
    "    auto_lr_find=True, # Runs the LRFinder to automatically derive a learning rate\n",
    "    batch_size=batch_size,\n",
    "    max_epochs=epochs,\n",
    "    early_stopping_patience = 5,\n",
    "    gpus=-1,  #index of the GPU to use. -1 means all available GPUs, None, means CPU\n",
    ")\n",
    "# optimizer_config = OptimizerConfig(lr_scheduler=\"OneCycleLR\", lr_scheduler_params={\"max_lr\":0.005, \"epochs\": epochs, \"steps_per_epoch\":steps_per_epoch})\n",
    "optimizer_config = OptimizerConfig(lr_scheduler=\"ReduceLROnPlateau\", lr_scheduler_params={\"patience\":3})\n",
    "mdn_config = MixtureDensityHeadConfig(num_gaussian=1)\n",
    "model_config = CategoryEmbeddingMDNConfig(\n",
    "    task=\"regression\",\n",
    "    mdn_config=mdn_config,\n",
    "    layers=\"128-64\",  # Number of nodes in each layer\n",
    "    activation=\"ReLU\",  # Activation between each layers\n",
    "    learning_rate=1e-3,\n",
    "    batch_norm_continuous_input=True,\n",
    "    use_batch_norm=True,\n",
    "    dropout=0.0,\n",
    "    embedding_dropout=0,\n",
    "    initialization=\"kaiming\",\n",
    "    #         target_range=[(df_train[col].min(),df_train[col].max()) for col in ['target']]\n",
    ")\n",
    "tabular_model = TabularModel(\n",
    "    data_config=data_config,\n",
    "    model_config=model_config,\n",
    "    optimizer_config=optimizer_config,\n",
    "    trainer_config=trainer_config\n",
    ")"
   ],
   "outputs": [],
   "metadata": {
    "hidden": true
   }
  },
  {
   "cell_type": "markdown",
   "source": [
    "### Training the Model "
   ],
   "metadata": {
    "hidden": true,
    "tags": []
   }
  },
  {
   "cell_type": "code",
   "execution_count": null,
   "source": [
    "tabular_model.fit(train=df_train, validation=df_valid)"
   ],
   "outputs": [],
   "metadata": {
    "hidden": true,
    "tags": []
   }
  },
  {
   "cell_type": "markdown",
   "source": [
    "### Predictions and Visualization"
   ],
   "metadata": {
    "hidden": true
   }
  },
  {
   "cell_type": "code",
   "execution_count": 10,
   "source": [
    "pred_df = tabular_model.predict(df_test, quantiles=[0.25,0.5,0.75], n_samples=100)\n",
    "pred_df.head()"
   ],
   "outputs": [
    {
     "output_type": "display_data",
     "data": {
      "text/plain": [
       "HBox(children=(HTML(value='Generating Predictions...'), FloatProgress(value=0.0, max=8.0), HTML(value='')))"
      ],
      "application/vnd.jupyter.widget-view+json": {
       "model_id": "3c1433574a164217a5651eab50a8beb5",
       "version_major": 2,
       "version_minor": 0
      }
     },
     "metadata": {}
    },
    {
     "output_type": "stream",
     "name": "stdout",
     "text": [
      "\n"
     ]
    },
    {
     "output_type": "execute_result",
     "data": {
      "text/plain": [
       "       col1  target_prediction  target_q25  target_q50  target_q75\n",
       "0  0.000000           0.261096    0.082106    0.261385    0.435355\n",
       "1  0.001001           0.204703    0.036332    0.192244    0.387601\n",
       "2  0.002002           0.240385    0.051463    0.240299    0.377365\n",
       "3  0.003003           0.211230    0.044478    0.234646    0.374513\n",
       "4  0.004004           0.234834    0.038737    0.246136    0.377387"
      ],
      "text/html": [
       "<div>\n",
       "<style scoped>\n",
       "    .dataframe tbody tr th:only-of-type {\n",
       "        vertical-align: middle;\n",
       "    }\n",
       "\n",
       "    .dataframe tbody tr th {\n",
       "        vertical-align: top;\n",
       "    }\n",
       "\n",
       "    .dataframe thead th {\n",
       "        text-align: right;\n",
       "    }\n",
       "</style>\n",
       "<table border=\"1\" class=\"dataframe\">\n",
       "  <thead>\n",
       "    <tr style=\"text-align: right;\">\n",
       "      <th></th>\n",
       "      <th>col1</th>\n",
       "      <th>target_prediction</th>\n",
       "      <th>target_q25</th>\n",
       "      <th>target_q50</th>\n",
       "      <th>target_q75</th>\n",
       "    </tr>\n",
       "  </thead>\n",
       "  <tbody>\n",
       "    <tr>\n",
       "      <th>0</th>\n",
       "      <td>0.000000</td>\n",
       "      <td>0.261096</td>\n",
       "      <td>0.082106</td>\n",
       "      <td>0.261385</td>\n",
       "      <td>0.435355</td>\n",
       "    </tr>\n",
       "    <tr>\n",
       "      <th>1</th>\n",
       "      <td>0.001001</td>\n",
       "      <td>0.204703</td>\n",
       "      <td>0.036332</td>\n",
       "      <td>0.192244</td>\n",
       "      <td>0.387601</td>\n",
       "    </tr>\n",
       "    <tr>\n",
       "      <th>2</th>\n",
       "      <td>0.002002</td>\n",
       "      <td>0.240385</td>\n",
       "      <td>0.051463</td>\n",
       "      <td>0.240299</td>\n",
       "      <td>0.377365</td>\n",
       "    </tr>\n",
       "    <tr>\n",
       "      <th>3</th>\n",
       "      <td>0.003003</td>\n",
       "      <td>0.211230</td>\n",
       "      <td>0.044478</td>\n",
       "      <td>0.234646</td>\n",
       "      <td>0.374513</td>\n",
       "    </tr>\n",
       "    <tr>\n",
       "      <th>4</th>\n",
       "      <td>0.004004</td>\n",
       "      <td>0.234834</td>\n",
       "      <td>0.038737</td>\n",
       "      <td>0.246136</td>\n",
       "      <td>0.377387</td>\n",
       "    </tr>\n",
       "  </tbody>\n",
       "</table>\n",
       "</div>"
      ]
     },
     "metadata": {},
     "execution_count": 10
    }
   ],
   "metadata": {
    "hidden": true
   }
  },
  {
   "cell_type": "code",
   "execution_count": null,
   "source": [
    "fig = go.Figure([\n",
    "    go.Scatter(\n",
    "        name='Mean',\n",
    "        x=pred_df['col1'],\n",
    "        y=pred_df['target_prediction'],\n",
    "        mode='lines',\n",
    "        line=dict(color='rgba(28,53,94,1)'),\n",
    "    ),\n",
    "    go.Scatter(\n",
    "        name='Upper Bound',\n",
    "        x=pred_df['col1'],\n",
    "        y=pred_df['target_q75'],\n",
    "        mode='lines',\n",
    "        marker=dict(color='rgba(0,147,201,0.3)'),\n",
    "        line=dict(width=0),\n",
    "        showlegend=False\n",
    "    ),\n",
    "    go.Scatter(\n",
    "        name='Lower Bound',\n",
    "        x=pred_df['col1'],\n",
    "        y=pred_df['target_q25'],\n",
    "        marker=dict(color=\"#444\"),\n",
    "        line=dict(width=0),\n",
    "        mode='lines',\n",
    "        fillcolor='rgba(0,147,201,0.3)',\n",
    "        fill='tonexty',\n",
    "        showlegend=False\n",
    "    )\n",
    "])\n",
    "fig.update_layout(\n",
    "    yaxis_title='y',\n",
    "    title='Mixture Density Network Prediction',\n",
    "    hovermode=\"x\"\n",
    ")\n",
    "fig.show()"
   ],
   "outputs": [],
   "metadata": {
    "hidden": true
   }
  },
  {
   "cell_type": "markdown",
   "source": [
    "![](imgs/prob_reg_mdn_1.png)"
   ],
   "metadata": {}
  },
  {
   "cell_type": "markdown",
   "source": [
    "# Non-Linear Example"
   ],
   "metadata": {
    "tags": []
   }
  },
  {
   "cell_type": "code",
   "execution_count": 12,
   "source": [
    "df_train, df_valid, df_test, target_col = generate_non_linear_example()"
   ],
   "outputs": [],
   "metadata": {
    "hidden": true
   }
  },
  {
   "cell_type": "markdown",
   "source": [
    "## Plot"
   ],
   "metadata": {
    "hidden": true,
    "tags": []
   }
  },
  {
   "cell_type": "code",
   "execution_count": null,
   "source": [
    "fig = px.scatter(df_train, x=\"col1\", y=\"target\", title=r\"$y = \\pm x^2 + \\epsilon$\"+\"\\n\"+r\"$\\epsilon\\backsim\\mathcal{N}(0,|x|)$\")\n",
    "fig.update_layout(\n",
    "    title={\n",
    "        'y':0.9,\n",
    "        'x':0.5,\n",
    "        'xanchor': 'center',\n",
    "        'yanchor': 'top'})\n",
    "fig"
   ],
   "outputs": [],
   "metadata": {
    "hidden": true
   }
  },
  {
   "cell_type": "markdown",
   "source": [
    "![](imgs/prob_reg_fig_2.png)"
   ],
   "metadata": {}
  },
  {
   "cell_type": "code",
   "execution_count": null,
   "source": [
    "px.histogram(df_train, x=\"target\", title=\"Histogram\")"
   ],
   "outputs": [],
   "metadata": {
    "hidden": true
   }
  },
  {
   "cell_type": "markdown",
   "source": [
    "![](imgs/prob_reg_hist_2.png)"
   ],
   "metadata": {}
  },
  {
   "cell_type": "markdown",
   "source": [
    "## Training a FeedForward"
   ],
   "metadata": {
    "hidden": true,
    "tags": []
   }
  },
  {
   "cell_type": "markdown",
   "source": [
    "### Define the Configs"
   ],
   "metadata": {
    "hidden": true,
    "tags": []
   }
  },
  {
   "cell_type": "code",
   "execution_count": 16,
   "source": [
    "epochs = 200\n",
    "batch_size = 2048\n",
    "steps_per_epoch = int((len(df_train)//batch_size)*0.9)\n",
    "data_config = DataConfig(\n",
    "    target=['target'],\n",
    "    continuous_cols=['col1'],\n",
    "    categorical_cols=[],\n",
    "#         continuous_feature_transform=\"quantile_uniform\"\n",
    ")\n",
    "trainer_config = TrainerConfig(\n",
    "    auto_lr_find=True, # Runs the LRFinder to automatically derive a learning rate\n",
    "    batch_size=batch_size,\n",
    "    max_epochs=epochs,\n",
    "    early_stopping_patience = 5,\n",
    "    gpus=-1,  #index of the GPU to use. -1 means all available GPUs, None, means CPU\n",
    ")\n",
    "# optimizer_config = OptimizerConfig(lr_scheduler=\"OneCycleLR\", lr_scheduler_params={\"max_lr\":0.005, \"epochs\": epochs, \"steps_per_epoch\":steps_per_epoch})\n",
    "optimizer_config = OptimizerConfig(lr_scheduler=\"ReduceLROnPlateau\", lr_scheduler_params={\"patience\":3})\n",
    "model_config = CategoryEmbeddingModelConfig(\n",
    "    task=\"regression\",\n",
    "    layers=\"8\",  # Number of nodes in each layer\n",
    "    activation=\"ReLU\",  # Activation between each layers\n",
    "    learning_rate=1e-3,\n",
    "    batch_norm_continuous_input=True,\n",
    "    use_batch_norm=True,\n",
    "    dropout=0.0,\n",
    "    embedding_dropout=0,\n",
    "    initialization=\"kaiming\",\n",
    "    #         target_range=[(df_train[col].min(),df_train[col].max()) for col in ['target']]\n",
    ")\n",
    "tabular_model = TabularModel(\n",
    "    data_config=data_config,\n",
    "    model_config=model_config,\n",
    "    optimizer_config=optimizer_config,\n",
    "    trainer_config=trainer_config\n",
    ")"
   ],
   "outputs": [],
   "metadata": {
    "hidden": true
   }
  },
  {
   "cell_type": "markdown",
   "source": [
    "### Training the Model "
   ],
   "metadata": {
    "hidden": true,
    "tags": []
   }
  },
  {
   "cell_type": "code",
   "execution_count": null,
   "source": [
    "tabular_model.fit(train=df_train, validation=df_valid)"
   ],
   "outputs": [],
   "metadata": {
    "hidden": true,
    "tags": []
   }
  },
  {
   "cell_type": "markdown",
   "source": [
    "### Predictions and Visualization"
   ],
   "metadata": {
    "hidden": true
   }
  },
  {
   "cell_type": "code",
   "execution_count": 18,
   "source": [
    "pred_df = tabular_model.predict(df_valid.sample(1000).sort_values(\"col1\"))\n",
    "pred_df.head()"
   ],
   "outputs": [
    {
     "output_type": "display_data",
     "data": {
      "text/plain": [
       "HBox(children=(HTML(value='Generating Predictions...'), FloatProgress(value=0.0, max=1.0), HTML(value='')))"
      ],
      "application/vnd.jupyter.widget-view+json": {
       "model_id": "6244da35bdfb41809a7c1e457c937601",
       "version_major": 2,
       "version_minor": 0
      }
     },
     "metadata": {}
    },
    {
     "output_type": "stream",
     "name": "stdout",
     "text": [
      "\n"
     ]
    },
    {
     "output_type": "execute_result",
     "data": {
      "text/plain": [
       "           col1    target  target_prediction\n",
       "19134 -9.996758  0.907346           0.447962\n",
       "97260 -9.987103  0.123242           0.448189\n",
       "55069 -9.947652  0.298183           0.449120\n",
       "88050 -9.938842  0.134552           0.449327\n",
       "1366  -9.938368  0.231712           0.449339"
      ],
      "text/html": [
       "<div>\n",
       "<style scoped>\n",
       "    .dataframe tbody tr th:only-of-type {\n",
       "        vertical-align: middle;\n",
       "    }\n",
       "\n",
       "    .dataframe tbody tr th {\n",
       "        vertical-align: top;\n",
       "    }\n",
       "\n",
       "    .dataframe thead th {\n",
       "        text-align: right;\n",
       "    }\n",
       "</style>\n",
       "<table border=\"1\" class=\"dataframe\">\n",
       "  <thead>\n",
       "    <tr style=\"text-align: right;\">\n",
       "      <th></th>\n",
       "      <th>col1</th>\n",
       "      <th>target</th>\n",
       "      <th>target_prediction</th>\n",
       "    </tr>\n",
       "  </thead>\n",
       "  <tbody>\n",
       "    <tr>\n",
       "      <th>19134</th>\n",
       "      <td>-9.996758</td>\n",
       "      <td>0.907346</td>\n",
       "      <td>0.447962</td>\n",
       "    </tr>\n",
       "    <tr>\n",
       "      <th>97260</th>\n",
       "      <td>-9.987103</td>\n",
       "      <td>0.123242</td>\n",
       "      <td>0.448189</td>\n",
       "    </tr>\n",
       "    <tr>\n",
       "      <th>55069</th>\n",
       "      <td>-9.947652</td>\n",
       "      <td>0.298183</td>\n",
       "      <td>0.449120</td>\n",
       "    </tr>\n",
       "    <tr>\n",
       "      <th>88050</th>\n",
       "      <td>-9.938842</td>\n",
       "      <td>0.134552</td>\n",
       "      <td>0.449327</td>\n",
       "    </tr>\n",
       "    <tr>\n",
       "      <th>1366</th>\n",
       "      <td>-9.938368</td>\n",
       "      <td>0.231712</td>\n",
       "      <td>0.449339</td>\n",
       "    </tr>\n",
       "  </tbody>\n",
       "</table>\n",
       "</div>"
      ]
     },
     "metadata": {},
     "execution_count": 18
    }
   ],
   "metadata": {
    "hidden": true
   }
  },
  {
   "cell_type": "code",
   "execution_count": null,
   "source": [
    "fig = go.Figure([\n",
    "    go.Scatter(\n",
    "        name='Prediction',\n",
    "        x=pred_df['col1'],\n",
    "        y=pred_df['target_prediction'],\n",
    "        mode='lines',\n",
    "        line=dict(color='rgba(28,53,94,1)'),\n",
    "    ),\n",
    "    go.Scatter(\n",
    "        name='Actual',\n",
    "        x=pred_df['col1'],\n",
    "        y=pred_df['target'],\n",
    "        mode='markers',\n",
    "        line=dict(color='rgba(60,180,229,1)'),\n",
    "    ),\n",
    "])\n",
    "fig.update_layout(\n",
    "    yaxis_title='y',\n",
    "    title='Category Embedding Prediction',\n",
    "    hovermode=\"x\"\n",
    ")\n",
    "fig.show()"
   ],
   "outputs": [],
   "metadata": {
    "hidden": true,
    "tags": []
   }
  },
  {
   "cell_type": "markdown",
   "source": [
    "![](imgs/prob_reg_non_mdn_2.png)"
   ],
   "metadata": {}
  },
  {
   "cell_type": "markdown",
   "source": [
    "## Training the MDN"
   ],
   "metadata": {
    "hidden": true
   }
  },
  {
   "cell_type": "markdown",
   "source": [
    "### Define the Configs"
   ],
   "metadata": {
    "hidden": true,
    "tags": []
   }
  },
  {
   "cell_type": "code",
   "execution_count": 20,
   "source": [
    "epochs = 200\n",
    "batch_size = 2048\n",
    "steps_per_epoch = int((len(df_train)//batch_size)*0.9)\n",
    "data_config = DataConfig(\n",
    "    target=['target'],\n",
    "    continuous_cols=['col1'],\n",
    "    categorical_cols=[],\n",
    "#         continuous_feature_transform=\"quantile_uniform\"\n",
    ")\n",
    "trainer_config = TrainerConfig(\n",
    "    auto_lr_find=True, # Runs the LRFinder to automatically derive a learning rate\n",
    "    batch_size=batch_size,\n",
    "    max_epochs=epochs,\n",
    "    early_stopping_patience = 5,\n",
    "    early_stopping=None,\n",
    "    gpus=-1,  #index of the GPU to use. -1 means all available GPUs, None, means CPU\n",
    ")\n",
    "# optimizer_config = OptimizerConfig(lr_scheduler=\"OneCycleLR\", lr_scheduler_params={\"max_lr\":0.005, \"epochs\": epochs, \"steps_per_epoch\":steps_per_epoch})\n",
    "optimizer_config = OptimizerConfig(lr_scheduler=\"ReduceLROnPlateau\", lr_scheduler_params={\"patience\":3})\n",
    "mdn_config = MixtureDensityHeadConfig(num_gaussian=2, weight_regularization=2)#, mu_bias_init=[0.3, 0.7])\n",
    "model_config = CategoryEmbeddingMDNConfig(\n",
    "    task=\"regression\",\n",
    "    mdn_config=mdn_config,\n",
    "    layers=\"8\",  # Number of nodes in each layer\n",
    "    activation=\"ReLU\",  # Activation between each layers\n",
    "    learning_rate=1e-3,\n",
    "    batch_norm_continuous_input=True,\n",
    "    use_batch_norm=True,\n",
    "    dropout=0.0,\n",
    "    embedding_dropout=0,\n",
    "    initialization=\"kaiming\",\n",
    "    #         target_range=[(df_train[col].min(),df_train[col].max()) for col in ['target']]\n",
    ")\n",
    "tabular_model = TabularModel(\n",
    "    data_config=data_config,\n",
    "    model_config=model_config,\n",
    "    optimizer_config=optimizer_config,\n",
    "    trainer_config=trainer_config\n",
    ")"
   ],
   "outputs": [],
   "metadata": {
    "hidden": true
   }
  },
  {
   "cell_type": "markdown",
   "source": [
    "### Training the Model "
   ],
   "metadata": {
    "hidden": true,
    "tags": []
   }
  },
  {
   "cell_type": "code",
   "execution_count": null,
   "source": [
    "tabular_model.fit(train=df_train, validation=df_valid)"
   ],
   "outputs": [],
   "metadata": {
    "hidden": true,
    "tags": []
   }
  },
  {
   "cell_type": "markdown",
   "source": [
    "### Predictions and Visualization"
   ],
   "metadata": {
    "hidden": true
   }
  },
  {
   "cell_type": "code",
   "execution_count": 22,
   "source": [
    "pred_df = tabular_model.predict(df_test, quantiles=[0.25,0.5,0.75], n_samples=100, ret_logits=True)\n",
    "pred_df.head()"
   ],
   "outputs": [
    {
     "output_type": "display_data",
     "data": {
      "text/plain": [
       "HBox(children=(HTML(value='Generating Predictions...'), FloatProgress(value=0.0, max=1.0), HTML(value='')))"
      ],
      "application/vnd.jupyter.widget-view+json": {
       "model_id": "afc3b634b24146b9a4d73ec644c749b6",
       "version_major": 2,
       "version_minor": 0
      }
     },
     "metadata": {}
    },
    {
     "output_type": "stream",
     "name": "stdout",
     "text": [
      "\n"
     ]
    },
    {
     "output_type": "execute_result",
     "data": {
      "text/plain": [
       "        col1  target_prediction  target_q25  target_q50  target_q75      pi_0  \\\n",
       "0 -10.000000           0.474035    0.215836    0.281732    0.817638 -0.000006   \n",
       "1  -9.979980           0.386717    0.216200    0.250949    0.709359 -0.000006   \n",
       "2  -9.959960           0.789517    0.770570    0.813235    0.857713 -0.000006   \n",
       "3  -9.939939           0.325282    0.184520    0.236393    0.315427 -0.000006   \n",
       "4  -9.919920           0.463595    0.233461    0.293257    0.788495 -0.000006   \n",
       "\n",
       "       pi_1   sigma_0   sigma_1      mu_0      mu_1  backbone_features_0  \\\n",
       "0  0.000005  0.060515  0.064350  0.228173  0.826169             0.053938   \n",
       "1  0.000005  0.060404  0.064212  0.229011  0.824638             0.054902   \n",
       "2  0.000005  0.060294  0.064074  0.229848  0.823107             0.055865   \n",
       "3  0.000005  0.060183  0.063936  0.230686  0.821576             0.056829   \n",
       "4  0.000005  0.060073  0.063798  0.231523  0.820045             0.057792   \n",
       "\n",
       "   backbone_features_1  backbone_features_2  backbone_features_3  \\\n",
       "0                  0.0             1.733542                  0.0   \n",
       "1                  0.0             1.732937                  0.0   \n",
       "2                  0.0             1.732333                  0.0   \n",
       "3                  0.0             1.731729                  0.0   \n",
       "4                  0.0             1.731125                  0.0   \n",
       "\n",
       "   backbone_features_4  backbone_features_5  backbone_features_6  \\\n",
       "0                  0.0             3.974509                  0.0   \n",
       "1                  0.0             3.970430                  0.0   \n",
       "2                  0.0             3.966351                  0.0   \n",
       "3                  0.0             3.962272                  0.0   \n",
       "4                  0.0             3.958193                  0.0   \n",
       "\n",
       "   backbone_features_7  \n",
       "0             4.162086  \n",
       "1             4.151996  \n",
       "2             4.141907  \n",
       "3             4.131816  \n",
       "4             4.121726  "
      ],
      "text/html": [
       "<div>\n",
       "<style scoped>\n",
       "    .dataframe tbody tr th:only-of-type {\n",
       "        vertical-align: middle;\n",
       "    }\n",
       "\n",
       "    .dataframe tbody tr th {\n",
       "        vertical-align: top;\n",
       "    }\n",
       "\n",
       "    .dataframe thead th {\n",
       "        text-align: right;\n",
       "    }\n",
       "</style>\n",
       "<table border=\"1\" class=\"dataframe\">\n",
       "  <thead>\n",
       "    <tr style=\"text-align: right;\">\n",
       "      <th></th>\n",
       "      <th>col1</th>\n",
       "      <th>target_prediction</th>\n",
       "      <th>target_q25</th>\n",
       "      <th>target_q50</th>\n",
       "      <th>target_q75</th>\n",
       "      <th>pi_0</th>\n",
       "      <th>pi_1</th>\n",
       "      <th>sigma_0</th>\n",
       "      <th>sigma_1</th>\n",
       "      <th>mu_0</th>\n",
       "      <th>mu_1</th>\n",
       "      <th>backbone_features_0</th>\n",
       "      <th>backbone_features_1</th>\n",
       "      <th>backbone_features_2</th>\n",
       "      <th>backbone_features_3</th>\n",
       "      <th>backbone_features_4</th>\n",
       "      <th>backbone_features_5</th>\n",
       "      <th>backbone_features_6</th>\n",
       "      <th>backbone_features_7</th>\n",
       "    </tr>\n",
       "  </thead>\n",
       "  <tbody>\n",
       "    <tr>\n",
       "      <th>0</th>\n",
       "      <td>-10.000000</td>\n",
       "      <td>0.474035</td>\n",
       "      <td>0.215836</td>\n",
       "      <td>0.281732</td>\n",
       "      <td>0.817638</td>\n",
       "      <td>-0.000006</td>\n",
       "      <td>0.000005</td>\n",
       "      <td>0.060515</td>\n",
       "      <td>0.064350</td>\n",
       "      <td>0.228173</td>\n",
       "      <td>0.826169</td>\n",
       "      <td>0.053938</td>\n",
       "      <td>0.0</td>\n",
       "      <td>1.733542</td>\n",
       "      <td>0.0</td>\n",
       "      <td>0.0</td>\n",
       "      <td>3.974509</td>\n",
       "      <td>0.0</td>\n",
       "      <td>4.162086</td>\n",
       "    </tr>\n",
       "    <tr>\n",
       "      <th>1</th>\n",
       "      <td>-9.979980</td>\n",
       "      <td>0.386717</td>\n",
       "      <td>0.216200</td>\n",
       "      <td>0.250949</td>\n",
       "      <td>0.709359</td>\n",
       "      <td>-0.000006</td>\n",
       "      <td>0.000005</td>\n",
       "      <td>0.060404</td>\n",
       "      <td>0.064212</td>\n",
       "      <td>0.229011</td>\n",
       "      <td>0.824638</td>\n",
       "      <td>0.054902</td>\n",
       "      <td>0.0</td>\n",
       "      <td>1.732937</td>\n",
       "      <td>0.0</td>\n",
       "      <td>0.0</td>\n",
       "      <td>3.970430</td>\n",
       "      <td>0.0</td>\n",
       "      <td>4.151996</td>\n",
       "    </tr>\n",
       "    <tr>\n",
       "      <th>2</th>\n",
       "      <td>-9.959960</td>\n",
       "      <td>0.789517</td>\n",
       "      <td>0.770570</td>\n",
       "      <td>0.813235</td>\n",
       "      <td>0.857713</td>\n",
       "      <td>-0.000006</td>\n",
       "      <td>0.000005</td>\n",
       "      <td>0.060294</td>\n",
       "      <td>0.064074</td>\n",
       "      <td>0.229848</td>\n",
       "      <td>0.823107</td>\n",
       "      <td>0.055865</td>\n",
       "      <td>0.0</td>\n",
       "      <td>1.732333</td>\n",
       "      <td>0.0</td>\n",
       "      <td>0.0</td>\n",
       "      <td>3.966351</td>\n",
       "      <td>0.0</td>\n",
       "      <td>4.141907</td>\n",
       "    </tr>\n",
       "    <tr>\n",
       "      <th>3</th>\n",
       "      <td>-9.939939</td>\n",
       "      <td>0.325282</td>\n",
       "      <td>0.184520</td>\n",
       "      <td>0.236393</td>\n",
       "      <td>0.315427</td>\n",
       "      <td>-0.000006</td>\n",
       "      <td>0.000005</td>\n",
       "      <td>0.060183</td>\n",
       "      <td>0.063936</td>\n",
       "      <td>0.230686</td>\n",
       "      <td>0.821576</td>\n",
       "      <td>0.056829</td>\n",
       "      <td>0.0</td>\n",
       "      <td>1.731729</td>\n",
       "      <td>0.0</td>\n",
       "      <td>0.0</td>\n",
       "      <td>3.962272</td>\n",
       "      <td>0.0</td>\n",
       "      <td>4.131816</td>\n",
       "    </tr>\n",
       "    <tr>\n",
       "      <th>4</th>\n",
       "      <td>-9.919920</td>\n",
       "      <td>0.463595</td>\n",
       "      <td>0.233461</td>\n",
       "      <td>0.293257</td>\n",
       "      <td>0.788495</td>\n",
       "      <td>-0.000006</td>\n",
       "      <td>0.000005</td>\n",
       "      <td>0.060073</td>\n",
       "      <td>0.063798</td>\n",
       "      <td>0.231523</td>\n",
       "      <td>0.820045</td>\n",
       "      <td>0.057792</td>\n",
       "      <td>0.0</td>\n",
       "      <td>1.731125</td>\n",
       "      <td>0.0</td>\n",
       "      <td>0.0</td>\n",
       "      <td>3.958193</td>\n",
       "      <td>0.0</td>\n",
       "      <td>4.121726</td>\n",
       "    </tr>\n",
       "  </tbody>\n",
       "</table>\n",
       "</div>"
      ]
     },
     "metadata": {},
     "execution_count": 22
    }
   ],
   "metadata": {
    "hidden": true
   }
  },
  {
   "cell_type": "code",
   "execution_count": 23,
   "source": [
    "df = df_valid.sample(10000)"
   ],
   "outputs": [],
   "metadata": {
    "hidden": true
   }
  },
  {
   "cell_type": "code",
   "execution_count": null,
   "source": [
    "fig = go.Figure([\n",
    "    go.Scatter(\n",
    "        name='Ground Truth',\n",
    "        x=df['col1'],\n",
    "        y=df['target'],\n",
    "        mode='markers',\n",
    "        line=dict(color='rgba(153, 115, 142, 0.2)'),\n",
    "    ),\n",
    "    go.Scatter(\n",
    "        name='Component 1',\n",
    "        x=pred_df['col1'],\n",
    "        y=pred_df['mu_0'],\n",
    "        mode='lines',\n",
    "        line=dict(color='rgba(36, 37, 130, 1)'),\n",
    "    ),\n",
    "    go.Scatter(\n",
    "        name='Component 2',\n",
    "        x=pred_df['col1'],\n",
    "        y=pred_df['mu_1'],\n",
    "        mode='lines',\n",
    "        line=dict(color='rgba(246, 76, 114, 1)'),\n",
    "    ),\n",
    "    go.Scatter(\n",
    "        name='Upper Bound 1',\n",
    "        x=pred_df['col1'],\n",
    "        y=pred_df['mu_0']+pred_df['sigma_0'],\n",
    "        mode='lines',\n",
    "        marker=dict(color='rgba(47, 47, 162, 0.5)'),\n",
    "#         line=dict(width=0),\n",
    "        showlegend=False\n",
    "    ),\n",
    "    go.Scatter(\n",
    "        name='Lower Bound 1',\n",
    "        x=pred_df['col1'],\n",
    "        y=pred_df['mu_0']-pred_df['sigma_0'],\n",
    "        marker=dict(color=\"#444\"),\n",
    "        line=dict(width=0),\n",
    "        mode='lines',\n",
    "        fillcolor='rgba(47, 47, 162, 0.5)',\n",
    "        fill='tonexty',\n",
    "        showlegend=False\n",
    "    ),\n",
    "    go.Scatter(\n",
    "        name='Upper Bound 2',\n",
    "        x=pred_df['col1'],\n",
    "        y=pred_df['mu_1']+pred_df['sigma_1'],\n",
    "        mode='lines',\n",
    "        marker=dict(color='rgba(250, 152, 174, 0.5)'),\n",
    "#         line=dict(width=0),\n",
    "        showlegend=False\n",
    "    ),\n",
    "    go.Scatter(\n",
    "        name='Lower Bound 2',\n",
    "        x=pred_df['col1'],\n",
    "        y=pred_df['mu_1']-pred_df['sigma_1'],\n",
    "        marker=dict(color=\"#444\"),\n",
    "        line=dict(width=0),\n",
    "        mode='lines',\n",
    "        fillcolor='rgba(250, 152, 174, 0.5)',\n",
    "        fill='tonexty',\n",
    "        showlegend=False\n",
    "    ),\n",
    "])\n",
    "fig.update_layout(\n",
    "    yaxis_title='y',\n",
    "    title='Mixture Density Network Prediction',\n",
    "    hovermode=\"x\"\n",
    ")\n",
    "fig.show()"
   ],
   "outputs": [],
   "metadata": {
    "hidden": true
   }
  },
  {
   "cell_type": "markdown",
   "source": [
    "![](imgs/prob_reg_mdn_2.png)"
   ],
   "metadata": {}
  },
  {
   "cell_type": "markdown",
   "source": [
    "# Gaussian Mixture"
   ],
   "metadata": {
    "tags": []
   }
  },
  {
   "cell_type": "code",
   "execution_count": 161,
   "source": [
    "df_train, df_valid, df_test, target_col = generate_gaussian_mixture()"
   ],
   "outputs": [],
   "metadata": {
    "hidden": true
   }
  },
  {
   "cell_type": "markdown",
   "source": [
    "## Plot"
   ],
   "metadata": {
    "hidden": true
   }
  },
  {
   "cell_type": "code",
   "execution_count": 165,
   "source": [
    "from IPython.display import display, Math, Latex"
   ],
   "outputs": [],
   "metadata": {
    "hidden": true
   }
  },
  {
   "cell_type": "code",
   "execution_count": null,
   "source": [
    "eqn = r'$\\pi = \\frac{sin(x) + 3xcos(x)}{max \\left (sin(x) + 3xcos(x) \\right )} \\\\ \\\\ g1 = 2x + 0.5 \\epsilon \\rightarrow  \\epsilon \\backsim \\mathcal{N}(0,1) \\\\ g2 = 8x + 0.5 \\epsilon \\rightarrow  \\epsilon \\backsim \\mathcal{N}(0,1) \\\\ p = Bernoulli(pi) \\rightarrow \\text{Samples one of two outcomes based on the value of } \\pi \\\\ y = p \\times g1 + (1-p) \\times g2$'\n",
    "display(Math(eqn))\n",
    "fig = px.scatter(df_train, x=\"col1\", y=\"target\")\n",
    "fig.update_layout(\n",
    "    title={\n",
    "        'y':0.9,\n",
    "        'x':0.5,\n",
    "        'xanchor': 'center',\n",
    "        'yanchor': 'top'})\n",
    "fig"
   ],
   "outputs": [],
   "metadata": {
    "hidden": true
   }
  },
  {
   "cell_type": "markdown",
   "source": [
    "![](imgs/prob_reg_fig_3.png)"
   ],
   "metadata": {}
  },
  {
   "cell_type": "code",
   "execution_count": null,
   "source": [
    "px.histogram(df_train, x=\"target\", title=\"Histogram\")"
   ],
   "outputs": [],
   "metadata": {
    "hidden": true
   }
  },
  {
   "cell_type": "markdown",
   "source": [
    "![](imgs/prob_reg_hist_3.png)"
   ],
   "metadata": {}
  },
  {
   "cell_type": "markdown",
   "source": [
    "## Training a FeedForward"
   ],
   "metadata": {
    "hidden": true
   }
  },
  {
   "cell_type": "markdown",
   "source": [
    "### Define the Configs"
   ],
   "metadata": {
    "hidden": true
   }
  },
  {
   "cell_type": "code",
   "execution_count": 123,
   "source": [
    "epochs = 200\n",
    "batch_size = 2048\n",
    "steps_per_epoch = int((len(df_train)//batch_size)*0.9)\n",
    "data_config = DataConfig(\n",
    "    target=['target'],\n",
    "    continuous_cols=['col1'],\n",
    "    categorical_cols=[],\n",
    "#         continuous_feature_transform=\"quantile_uniform\"\n",
    ")\n",
    "trainer_config = TrainerConfig(\n",
    "    auto_lr_find=True, # Runs the LRFinder to automatically derive a learning rate\n",
    "    batch_size=batch_size,\n",
    "    max_epochs=epochs,\n",
    "    early_stopping_patience = 5,\n",
    "    gpus=-1,  #index of the GPU to use. -1 means all available GPUs, None, means CPU\n",
    ")\n",
    "# optimizer_config = OptimizerConfig(lr_scheduler=\"OneCycleLR\", lr_scheduler_params={\"max_lr\":0.005, \"epochs\": epochs, \"steps_per_epoch\":steps_per_epoch})\n",
    "optimizer_config = OptimizerConfig(lr_scheduler=\"ReduceLROnPlateau\", lr_scheduler_params={\"patience\":3})\n",
    "model_config = CategoryEmbeddingModelConfig(\n",
    "    task=\"regression\",\n",
    "    layers=\"8\",  # Number of nodes in each layer\n",
    "    activation=\"ReLU\",  # Activation between each layers\n",
    "    learning_rate=1e-3,\n",
    "    batch_norm_continuous_input=True,\n",
    "    use_batch_norm=True,\n",
    "    dropout=0.0,\n",
    "    embedding_dropout=0,\n",
    "    initialization=\"kaiming\",\n",
    "    #         target_range=[(df_train[col].min(),df_train[col].max()) for col in ['target']]\n",
    ")\n",
    "tabular_model = TabularModel(\n",
    "    data_config=data_config,\n",
    "    model_config=model_config,\n",
    "    optimizer_config=optimizer_config,\n",
    "    trainer_config=trainer_config\n",
    ")"
   ],
   "outputs": [],
   "metadata": {
    "hidden": true
   }
  },
  {
   "cell_type": "markdown",
   "source": [
    "### Training the Model "
   ],
   "metadata": {
    "hidden": true
   }
  },
  {
   "cell_type": "code",
   "execution_count": null,
   "source": [
    "tabular_model.fit(train=df_train, validation=df_valid)"
   ],
   "outputs": [],
   "metadata": {
    "hidden": true
   }
  },
  {
   "cell_type": "markdown",
   "source": [
    "### Predictions and Visualization"
   ],
   "metadata": {
    "hidden": true
   }
  },
  {
   "cell_type": "code",
   "execution_count": 125,
   "source": [
    "pred_df = tabular_model.predict(df_valid.sample(1000).sort_values(\"col1\"))\n",
    "pred_df.head()"
   ],
   "outputs": [
    {
     "output_type": "display_data",
     "data": {
      "text/plain": [
       "HBox(children=(HTML(value='Generating Predictions...'), FloatProgress(value=0.0, max=1.0), HTML(value='')))"
      ],
      "application/vnd.jupyter.widget-view+json": {
       "model_id": "ddbf7282b4dd4971a0bc4170d07e799e",
       "version_major": 2,
       "version_minor": 0
      }
     },
     "metadata": {}
    },
    {
     "output_type": "stream",
     "name": "stdout",
     "text": [
      "\n"
     ]
    },
    {
     "output_type": "execute_result",
     "data": {
      "text/plain": [
       "           col1    target  target_prediction\n",
       "18950  0.000725  0.494310           0.332354\n",
       "17626  0.000729  0.233029           0.332382\n",
       "994    0.000870  0.409967           0.333436\n",
       "3131   0.001038  0.464035           0.334694\n",
       "15884  0.001590  0.346892           0.338819"
      ],
      "text/html": [
       "<div>\n",
       "<style scoped>\n",
       "    .dataframe tbody tr th:only-of-type {\n",
       "        vertical-align: middle;\n",
       "    }\n",
       "\n",
       "    .dataframe tbody tr th {\n",
       "        vertical-align: top;\n",
       "    }\n",
       "\n",
       "    .dataframe thead th {\n",
       "        text-align: right;\n",
       "    }\n",
       "</style>\n",
       "<table border=\"1\" class=\"dataframe\">\n",
       "  <thead>\n",
       "    <tr style=\"text-align: right;\">\n",
       "      <th></th>\n",
       "      <th>col1</th>\n",
       "      <th>target</th>\n",
       "      <th>target_prediction</th>\n",
       "    </tr>\n",
       "  </thead>\n",
       "  <tbody>\n",
       "    <tr>\n",
       "      <th>18950</th>\n",
       "      <td>0.000725</td>\n",
       "      <td>0.494310</td>\n",
       "      <td>0.332354</td>\n",
       "    </tr>\n",
       "    <tr>\n",
       "      <th>17626</th>\n",
       "      <td>0.000729</td>\n",
       "      <td>0.233029</td>\n",
       "      <td>0.332382</td>\n",
       "    </tr>\n",
       "    <tr>\n",
       "      <th>994</th>\n",
       "      <td>0.000870</td>\n",
       "      <td>0.409967</td>\n",
       "      <td>0.333436</td>\n",
       "    </tr>\n",
       "    <tr>\n",
       "      <th>3131</th>\n",
       "      <td>0.001038</td>\n",
       "      <td>0.464035</td>\n",
       "      <td>0.334694</td>\n",
       "    </tr>\n",
       "    <tr>\n",
       "      <th>15884</th>\n",
       "      <td>0.001590</td>\n",
       "      <td>0.346892</td>\n",
       "      <td>0.338819</td>\n",
       "    </tr>\n",
       "  </tbody>\n",
       "</table>\n",
       "</div>"
      ]
     },
     "metadata": {},
     "execution_count": 125
    }
   ],
   "metadata": {
    "hidden": true
   }
  },
  {
   "cell_type": "code",
   "execution_count": null,
   "source": [
    "fig = go.Figure([\n",
    "    go.Scatter(\n",
    "        name='Prediction',\n",
    "        x=pred_df['col1'],\n",
    "        y=pred_df['target_prediction'],\n",
    "        mode='lines',\n",
    "        line=dict(color='rgba(28,53,94,1)'),\n",
    "    ),\n",
    "    go.Scatter(\n",
    "        name='Actual',\n",
    "        x=pred_df['col1'],\n",
    "        y=pred_df['target'],\n",
    "        mode='markers',\n",
    "        line=dict(color='rgba(60,180,229,1)'),\n",
    "    ),\n",
    "])\n",
    "fig.update_layout(\n",
    "    yaxis_title='y',\n",
    "    title='Category Embedding Network Prediction',\n",
    "    hovermode=\"x\"\n",
    ")\n",
    "fig.show()"
   ],
   "outputs": [],
   "metadata": {
    "hidden": true
   }
  },
  {
   "cell_type": "markdown",
   "source": [
    "![](imgs/prob_reg_non_mdn_3.png)"
   ],
   "metadata": {}
  },
  {
   "cell_type": "markdown",
   "source": [
    "### Training the MDN"
   ],
   "metadata": {
    "hidden": true
   }
  },
  {
   "cell_type": "markdown",
   "source": [
    "### Define the Configs"
   ],
   "metadata": {
    "hidden": true
   }
  },
  {
   "cell_type": "code",
   "execution_count": 149,
   "source": [
    "epochs = 200\n",
    "batch_size = 2048\n",
    "steps_per_epoch = int((len(df_train)//batch_size)*0.9)\n",
    "data_config = DataConfig(\n",
    "    target=['target'],\n",
    "    continuous_cols=['col1'],\n",
    "    categorical_cols=[],\n",
    "#         continuous_feature_transform=\"quantile_uniform\"\n",
    ")\n",
    "trainer_config = TrainerConfig(\n",
    "    auto_lr_find=True, # Runs the LRFinder to automatically derive a learning rate\n",
    "    batch_size=batch_size,\n",
    "    max_epochs=epochs,\n",
    "    early_stopping_patience = 5,\n",
    "    early_stopping=None,\n",
    "    gpus=-1,  #index of the GPU to use. -1 means all available GPUs, None, means CPU\n",
    ")\n",
    "# optimizer_config = OptimizerConfig(lr_scheduler=\"OneCycleLR\", lr_scheduler_params={\"max_lr\":0.005, \"epochs\": epochs, \"steps_per_epoch\":steps_per_epoch})\n",
    "optimizer_config = OptimizerConfig(lr_scheduler=\"ReduceLROnPlateau\", lr_scheduler_params={\"patience\":3})\n",
    "mdn_config = MixtureDensityHeadConfig(num_gaussian=2, \n",
    "                                      weight_regularization=2, \n",
    "#                                       lambda_pi=10, \n",
    "#                                       lambda_sigma=1, \n",
    "#                                       mu_bias_init=[1,2]\n",
    "                                     )#, mu_bias_init=[0.3, 0.7])\n",
    "model_config = CategoryEmbeddingMDNConfig(\n",
    "    task=\"regression\",\n",
    "    mdn_config=mdn_config,\n",
    "    layers=\"8\",  # Number of nodes in each layer\n",
    "    activation=\"ReLU\",  # Activation between each layers\n",
    "    learning_rate=1e-3,\n",
    "    batch_norm_continuous_input=True,\n",
    "    use_batch_norm=True,\n",
    "    dropout=0.0,\n",
    "    embedding_dropout=0,\n",
    "    initialization=\"kaiming\",\n",
    "    #         target_range=[(df_train[col].min(),df_train[col].max()) for col in ['target']]\n",
    ")\n",
    "tabular_model = TabularModel(\n",
    "    data_config=data_config,\n",
    "    model_config=model_config,\n",
    "    optimizer_config=optimizer_config,\n",
    "    trainer_config=trainer_config\n",
    ")"
   ],
   "outputs": [],
   "metadata": {
    "hidden": true
   }
  },
  {
   "cell_type": "markdown",
   "source": [
    "### Training the Model "
   ],
   "metadata": {
    "hidden": true
   }
  },
  {
   "cell_type": "code",
   "execution_count": null,
   "source": [
    "tabular_model.fit(train=df_train, validation=df_valid)"
   ],
   "outputs": [],
   "metadata": {
    "hidden": true
   }
  },
  {
   "cell_type": "markdown",
   "source": [
    "### Predictions and Visualization"
   ],
   "metadata": {
    "hidden": true
   }
  },
  {
   "cell_type": "code",
   "execution_count": 151,
   "source": [
    "pred_df = tabular_model.predict(df_test, quantiles=[0.25,0.5,0.75], n_samples=100, ret_logits=True)\n",
    "pred_df.head()"
   ],
   "outputs": [
    {
     "output_type": "display_data",
     "data": {
      "text/plain": [
       "HBox(children=(HTML(value='Generating Predictions...'), FloatProgress(value=0.0, max=1.0), HTML(value='')))"
      ],
      "application/vnd.jupyter.widget-view+json": {
       "model_id": "232399b1fd414f45b4c20a1d58518bd6",
       "version_major": 2,
       "version_minor": 0
      }
     },
     "metadata": {}
    },
    {
     "output_type": "stream",
     "name": "stdout",
     "text": [
      "\n"
     ]
    },
    {
     "output_type": "execute_result",
     "data": {
      "text/plain": [
       "       col1  target_prediction  target_q25  target_q50  target_q75      pi_0  \\\n",
       "0  0.000000           0.215255    0.125259    0.235676    0.307787 -2.359976   \n",
       "1  0.001001           0.241467    0.148994    0.254013    0.340765 -2.354158   \n",
       "2  0.002002           0.267455    0.165220    0.246751    0.353674 -2.348339   \n",
       "3  0.003003           0.337546    0.214442    0.281356    0.378789 -2.342521   \n",
       "4  0.004004           0.273186    0.211099    0.271594    0.351111 -2.336703   \n",
       "\n",
       "       pi_1   sigma_0   sigma_1      mu_0      mu_1  backbone_features_0  \\\n",
       "0  3.190277  0.077286  0.131827  1.506372  0.241181                  0.0   \n",
       "1  3.183888  0.077483  0.132052  1.504977  0.249264                  0.0   \n",
       "2  3.177499  0.077680  0.132278  1.503582  0.257348                  0.0   \n",
       "3  3.171110  0.077878  0.132504  1.502187  0.265431                  0.0   \n",
       "4  3.164721  0.078077  0.132730  1.500791  0.273515                  0.0   \n",
       "\n",
       "   backbone_features_1  backbone_features_2  backbone_features_3  \\\n",
       "0             2.128445             1.751673             3.381084   \n",
       "1             2.125253             1.750712             3.376083   \n",
       "2             2.122060             1.749751             3.371081   \n",
       "3             2.118868             1.748790             3.366080   \n",
       "4             2.115676             1.747829             3.361079   \n",
       "\n",
       "   backbone_features_4  backbone_features_5  backbone_features_6  \\\n",
       "0                  0.0                  0.0                  0.0   \n",
       "1                  0.0                  0.0                  0.0   \n",
       "2                  0.0                  0.0                  0.0   \n",
       "3                  0.0                  0.0                  0.0   \n",
       "4                  0.0                  0.0                  0.0   \n",
       "\n",
       "   backbone_features_7  \n",
       "0             3.131942  \n",
       "1             3.123496  \n",
       "2             3.115050  \n",
       "3             3.106604  \n",
       "4             3.098158  "
      ],
      "text/html": [
       "<div>\n",
       "<style scoped>\n",
       "    .dataframe tbody tr th:only-of-type {\n",
       "        vertical-align: middle;\n",
       "    }\n",
       "\n",
       "    .dataframe tbody tr th {\n",
       "        vertical-align: top;\n",
       "    }\n",
       "\n",
       "    .dataframe thead th {\n",
       "        text-align: right;\n",
       "    }\n",
       "</style>\n",
       "<table border=\"1\" class=\"dataframe\">\n",
       "  <thead>\n",
       "    <tr style=\"text-align: right;\">\n",
       "      <th></th>\n",
       "      <th>col1</th>\n",
       "      <th>target_prediction</th>\n",
       "      <th>target_q25</th>\n",
       "      <th>target_q50</th>\n",
       "      <th>target_q75</th>\n",
       "      <th>pi_0</th>\n",
       "      <th>pi_1</th>\n",
       "      <th>sigma_0</th>\n",
       "      <th>sigma_1</th>\n",
       "      <th>mu_0</th>\n",
       "      <th>mu_1</th>\n",
       "      <th>backbone_features_0</th>\n",
       "      <th>backbone_features_1</th>\n",
       "      <th>backbone_features_2</th>\n",
       "      <th>backbone_features_3</th>\n",
       "      <th>backbone_features_4</th>\n",
       "      <th>backbone_features_5</th>\n",
       "      <th>backbone_features_6</th>\n",
       "      <th>backbone_features_7</th>\n",
       "    </tr>\n",
       "  </thead>\n",
       "  <tbody>\n",
       "    <tr>\n",
       "      <th>0</th>\n",
       "      <td>0.000000</td>\n",
       "      <td>0.215255</td>\n",
       "      <td>0.125259</td>\n",
       "      <td>0.235676</td>\n",
       "      <td>0.307787</td>\n",
       "      <td>-2.359976</td>\n",
       "      <td>3.190277</td>\n",
       "      <td>0.077286</td>\n",
       "      <td>0.131827</td>\n",
       "      <td>1.506372</td>\n",
       "      <td>0.241181</td>\n",
       "      <td>0.0</td>\n",
       "      <td>2.128445</td>\n",
       "      <td>1.751673</td>\n",
       "      <td>3.381084</td>\n",
       "      <td>0.0</td>\n",
       "      <td>0.0</td>\n",
       "      <td>0.0</td>\n",
       "      <td>3.131942</td>\n",
       "    </tr>\n",
       "    <tr>\n",
       "      <th>1</th>\n",
       "      <td>0.001001</td>\n",
       "      <td>0.241467</td>\n",
       "      <td>0.148994</td>\n",
       "      <td>0.254013</td>\n",
       "      <td>0.340765</td>\n",
       "      <td>-2.354158</td>\n",
       "      <td>3.183888</td>\n",
       "      <td>0.077483</td>\n",
       "      <td>0.132052</td>\n",
       "      <td>1.504977</td>\n",
       "      <td>0.249264</td>\n",
       "      <td>0.0</td>\n",
       "      <td>2.125253</td>\n",
       "      <td>1.750712</td>\n",
       "      <td>3.376083</td>\n",
       "      <td>0.0</td>\n",
       "      <td>0.0</td>\n",
       "      <td>0.0</td>\n",
       "      <td>3.123496</td>\n",
       "    </tr>\n",
       "    <tr>\n",
       "      <th>2</th>\n",
       "      <td>0.002002</td>\n",
       "      <td>0.267455</td>\n",
       "      <td>0.165220</td>\n",
       "      <td>0.246751</td>\n",
       "      <td>0.353674</td>\n",
       "      <td>-2.348339</td>\n",
       "      <td>3.177499</td>\n",
       "      <td>0.077680</td>\n",
       "      <td>0.132278</td>\n",
       "      <td>1.503582</td>\n",
       "      <td>0.257348</td>\n",
       "      <td>0.0</td>\n",
       "      <td>2.122060</td>\n",
       "      <td>1.749751</td>\n",
       "      <td>3.371081</td>\n",
       "      <td>0.0</td>\n",
       "      <td>0.0</td>\n",
       "      <td>0.0</td>\n",
       "      <td>3.115050</td>\n",
       "    </tr>\n",
       "    <tr>\n",
       "      <th>3</th>\n",
       "      <td>0.003003</td>\n",
       "      <td>0.337546</td>\n",
       "      <td>0.214442</td>\n",
       "      <td>0.281356</td>\n",
       "      <td>0.378789</td>\n",
       "      <td>-2.342521</td>\n",
       "      <td>3.171110</td>\n",
       "      <td>0.077878</td>\n",
       "      <td>0.132504</td>\n",
       "      <td>1.502187</td>\n",
       "      <td>0.265431</td>\n",
       "      <td>0.0</td>\n",
       "      <td>2.118868</td>\n",
       "      <td>1.748790</td>\n",
       "      <td>3.366080</td>\n",
       "      <td>0.0</td>\n",
       "      <td>0.0</td>\n",
       "      <td>0.0</td>\n",
       "      <td>3.106604</td>\n",
       "    </tr>\n",
       "    <tr>\n",
       "      <th>4</th>\n",
       "      <td>0.004004</td>\n",
       "      <td>0.273186</td>\n",
       "      <td>0.211099</td>\n",
       "      <td>0.271594</td>\n",
       "      <td>0.351111</td>\n",
       "      <td>-2.336703</td>\n",
       "      <td>3.164721</td>\n",
       "      <td>0.078077</td>\n",
       "      <td>0.132730</td>\n",
       "      <td>1.500791</td>\n",
       "      <td>0.273515</td>\n",
       "      <td>0.0</td>\n",
       "      <td>2.115676</td>\n",
       "      <td>1.747829</td>\n",
       "      <td>3.361079</td>\n",
       "      <td>0.0</td>\n",
       "      <td>0.0</td>\n",
       "      <td>0.0</td>\n",
       "      <td>3.098158</td>\n",
       "    </tr>\n",
       "  </tbody>\n",
       "</table>\n",
       "</div>"
      ]
     },
     "metadata": {},
     "execution_count": 151
    }
   ],
   "metadata": {
    "hidden": true
   }
  },
  {
   "cell_type": "code",
   "execution_count": 152,
   "source": [
    "df = df_valid.sample(10000)"
   ],
   "outputs": [],
   "metadata": {
    "hidden": true
   }
  },
  {
   "cell_type": "code",
   "execution_count": null,
   "source": [
    "fig = go.Figure([\n",
    "    go.Scatter(\n",
    "        name='Ground Truth',\n",
    "        x=df['col1'],\n",
    "        y=df['target'],\n",
    "        mode='markers',\n",
    "        line=dict(color='rgba(153, 115, 142, 0.2)'),\n",
    "    ),\n",
    "    go.Scatter(\n",
    "        name='Component 1',\n",
    "        x=pred_df['col1'],\n",
    "        y=pred_df['mu_0'],\n",
    "        mode='lines',\n",
    "        line=dict(color='rgba(90, 92, 237, 1)'),\n",
    "    ),\n",
    "    go.Scatter(\n",
    "        name='Component 2',\n",
    "        x=pred_df['col1'],\n",
    "        y=pred_df['mu_1'],\n",
    "        mode='lines',\n",
    "        line=dict(color='rgba(246, 76, 114, 1)'),\n",
    "    ),\n",
    "    go.Scatter(\n",
    "        name='Upper Bound 1',\n",
    "        x=pred_df['col1'],\n",
    "        y=pred_df['mu_0']+pred_df['sigma_0'],\n",
    "        mode='lines',\n",
    "        marker=dict(color='rgba(47, 47, 162, 0.5)'),\n",
    "#         line=dict(width=0),\n",
    "        showlegend=False\n",
    "    ),\n",
    "    go.Scatter(\n",
    "        name='Lower Bound 1',\n",
    "        x=pred_df['col1'],\n",
    "        y=pred_df['mu_0']-pred_df['sigma_0'],\n",
    "        marker=dict(color=\"#444\"),\n",
    "        line=dict(width=0),\n",
    "        mode='lines',\n",
    "        fillcolor='rgba(47, 47, 162, 0.5)',\n",
    "        fill='tonexty',\n",
    "        showlegend=False\n",
    "    ),\n",
    "    go.Scatter(\n",
    "        name='Upper Bound 2',\n",
    "        x=pred_df['col1'],\n",
    "        y=pred_df['mu_1']+pred_df['sigma_1'],\n",
    "        mode='lines',\n",
    "        marker=dict(color='rgba(250, 152, 174, 0.5)'),\n",
    "#         line=dict(width=0),\n",
    "        showlegend=False\n",
    "    ),\n",
    "    go.Scatter(\n",
    "        name='Lower Bound 2',\n",
    "        x=pred_df['col1'],\n",
    "        y=pred_df['mu_1']-pred_df['sigma_1'],\n",
    "        marker=dict(color=\"#444\"),\n",
    "        line=dict(width=0),\n",
    "        mode='lines',\n",
    "        fillcolor='rgba(250, 152, 174, 0.5)',\n",
    "        fill='tonexty',\n",
    "        showlegend=False\n",
    "    ),\n",
    "])\n",
    "fig.update_layout(\n",
    "    yaxis_title='y',\n",
    "#     yaxis_range=[0,1],\n",
    "    title='Mixture Density Network Prediction',\n",
    "    hovermode=\"x\"\n",
    ")\n",
    "fig.show()"
   ],
   "outputs": [],
   "metadata": {
    "hidden": true
   }
  },
  {
   "cell_type": "markdown",
   "source": [
    "![](imgs/prob_reg_mdn_3.png)"
   ],
   "metadata": {}
  },
  {
   "cell_type": "code",
   "execution_count": null,
   "source": [
    "fig = go.Figure([\n",
    "    go.Scatter(\n",
    "        name='Ground Truth',\n",
    "        x=df['col1'],\n",
    "        y=df['target'],\n",
    "        mode='markers',\n",
    "        line=dict(color='rgba(153, 115, 142, 0.2)'),\n",
    "    ),\n",
    "    go.Scatter(\n",
    "        name='Component 1',\n",
    "        x=pred_df['col1'],\n",
    "        y=pred_df['mu_0'],\n",
    "        mode='lines',\n",
    "        line=dict(color='rgba(90, 92, 237, 1)'),\n",
    "    ),\n",
    "    go.Scatter(\n",
    "        name='Mixing Coefficient 1',\n",
    "        x=pred_df['col1'],\n",
    "        y=pred_df['pi_1'],\n",
    "        mode='lines',\n",
    "        line=dict(color='rgba(255, 216, 117, 1)'),\n",
    "    ),\n",
    "    \n",
    "    go.Scatter(\n",
    "        name='Upper Bound 1',\n",
    "        x=pred_df['col1'],\n",
    "        y=pred_df['mu_0']+pred_df['sigma_0'],\n",
    "        mode='lines',\n",
    "        marker=dict(color='rgba(47, 47, 162, 0.5)'),\n",
    "#         line=dict(width=0),\n",
    "        showlegend=False\n",
    "    ),\n",
    "    go.Scatter(\n",
    "        name='Lower Bound 1',\n",
    "        x=pred_df['col1'],\n",
    "        y=pred_df['mu_0']-pred_df['sigma_0'],\n",
    "        marker=dict(color=\"#444\"),\n",
    "        line=dict(width=0),\n",
    "        mode='lines',\n",
    "        fillcolor='rgba(47, 47, 162, 0.5)',\n",
    "        fill='tonexty',\n",
    "        showlegend=False\n",
    "    ),\n",
    "   \n",
    "])\n",
    "fig.update_layout(\n",
    "    yaxis_title='y',\n",
    "#     yaxis_range=[-0.2,1],\n",
    "    title='Mixture Density Network Prediction',\n",
    "    hovermode=\"x\"\n",
    ")\n",
    "fig.show()"
   ],
   "outputs": [],
   "metadata": {
    "hidden": true
   }
  },
  {
   "cell_type": "markdown",
   "source": [
    "![](imgs/prob_reg_mixing1_3.png)"
   ],
   "metadata": {}
  },
  {
   "cell_type": "code",
   "execution_count": null,
   "source": [
    "fig = go.Figure([\n",
    "    go.Scatter(\n",
    "        name='Ground Truth',\n",
    "        x=df['col1'],\n",
    "        y=df['target'],\n",
    "        mode='markers',\n",
    "        line=dict(color='rgba(153, 115, 142, 0.2)'),\n",
    "    ),\n",
    "    \n",
    "    go.Scatter(\n",
    "        name='Component 2',\n",
    "        x=pred_df['col1'],\n",
    "        y=pred_df['mu_1'],\n",
    "        mode='lines',\n",
    "        line=dict(color='rgba(246, 76, 114, 1)'),\n",
    "    ),\n",
    "    \n",
    "    go.Scatter(\n",
    "        name='Mixing Coefficient 2',\n",
    "        x=pred_df['col1'],\n",
    "        y=pred_df['pi_1'],\n",
    "        mode='lines',\n",
    "        line=dict(color='rgba(255, 216, 117, 1)'),\n",
    "    ),\n",
    "    \n",
    "    go.Scatter(\n",
    "        name='Upper Bound 2',\n",
    "        x=pred_df['col1'],\n",
    "        y=pred_df['mu_1']+pred_df['sigma_1'],\n",
    "        mode='lines',\n",
    "        marker=dict(color='rgba(250, 152, 174, 0.5)'),\n",
    "#         line=dict(width=0),\n",
    "        showlegend=False\n",
    "    ),\n",
    "    go.Scatter(\n",
    "        name='Lower Bound 2',\n",
    "        x=pred_df['col1'],\n",
    "        y=pred_df['mu_1']-pred_df['sigma_1'],\n",
    "        marker=dict(color=\"#444\"),\n",
    "        line=dict(width=0),\n",
    "        mode='lines',\n",
    "        fillcolor='rgba(250, 152, 174, 0.5)',\n",
    "        fill='tonexty',\n",
    "        showlegend=False\n",
    "    ),\n",
    "])\n",
    "fig.update_layout(\n",
    "    yaxis_title='y',\n",
    "#     yaxis_range=[-0.2,1],\n",
    "    title='Mixture Density Network Prediction',\n",
    "    hovermode=\"x\"\n",
    ")\n",
    "fig.show()"
   ],
   "outputs": [],
   "metadata": {
    "hidden": true
   }
  },
  {
   "cell_type": "markdown",
   "source": [
    "![](imgs/prob_reg_mixing2_3.png)"
   ],
   "metadata": {}
  },
  {
   "cell_type": "code",
   "execution_count": 156,
   "source": [
    "from scipy.special import softmax"
   ],
   "outputs": [],
   "metadata": {
    "hidden": true
   }
  },
  {
   "cell_type": "code",
   "execution_count": null,
   "source": [
    "pred_df[['pi_0','pi_1']] = softmax(pred_df[['pi_0','pi_1']].values, axis=-1)\n",
    "px.line(pred_df, x='col1', y=['pi_0','pi_1'])"
   ],
   "outputs": [],
   "metadata": {
    "hidden": true
   }
  },
  {
   "cell_type": "markdown",
   "source": [
    "![](imgs/prob_reg_mixing12_3.png)"
   ],
   "metadata": {}
  },
  {
   "cell_type": "markdown",
   "source": [
    "# Boston Housing Dataset"
   ],
   "metadata": {
    "hidden": true
   }
  },
  {
   "cell_type": "code",
   "execution_count": 14,
   "source": [
    "# from sklearn.datasets import load_diabetes\n",
    "# target_col = \"target\"\n",
    "# X, y = load_diabetes(as_frame=True, return_X_y=True)\n",
    "# cont_cols = X.columns.tolist()\n",
    "# cat_cols = []\n",
    "# X[target_col] = y\n",
    "# df_train, df_test = train_test_split(X, test_size=0.2, random_state=42)\n",
    "# df_train, df_valid = train_test_split(df_train, test_size=0.2, random_state=42)"
   ],
   "outputs": [],
   "metadata": {}
  },
  {
   "cell_type": "code",
   "execution_count": 41,
   "source": [
    "from sklearn.datasets import load_boston\n",
    "target_col = \"target\"\n",
    "data = load_boston(return_X_y=False)\n",
    "X = pd.DataFrame(data['data'], columns=data['feature_names'])\n",
    "cont_cols = X.columns.tolist()\n",
    "cat_cols = []\n",
    "X[target_col] = y\n",
    "df_train, df_test = train_test_split(X, test_size=0.2, random_state=42)\n",
    "df_train, df_valid = train_test_split(df_train, test_size=0.2, random_state=42)"
   ],
   "outputs": [],
   "metadata": {
    "tags": []
   }
  },
  {
   "cell_type": "markdown",
   "source": [
    "## Plot"
   ],
   "metadata": {
    "hidden": true
   }
  },
  {
   "cell_type": "code",
   "execution_count": null,
   "source": [
    "px.histogram(df_train, x=\"target\", title=\"Histogram\")"
   ],
   "outputs": [],
   "metadata": {
    "hidden": true
   }
  },
  {
   "cell_type": "markdown",
   "source": [
    "![](imgs/prob_reg_hist_4.png)"
   ],
   "metadata": {}
  },
  {
   "cell_type": "markdown",
   "source": [
    "### Training the MDN"
   ],
   "metadata": {
    "hidden": true
   }
  },
  {
   "cell_type": "markdown",
   "source": [
    "### Define the Configs"
   ],
   "metadata": {
    "hidden": true
   }
  },
  {
   "cell_type": "markdown",
   "source": [
    "Let's use a nifty util function in the package to figure out the centers of the possible gaussian components. It internally runs a Kmeans and returns the cluster centroids and lets set that as the bias initialization"
   ],
   "metadata": {}
  },
  {
   "cell_type": "code",
   "execution_count": 255,
   "source": [
    "from pytorch_tabular.utils import get_gaussian_centers\n",
    "\n",
    "mu_init = get_gaussian_centers(df_train[target_col], n_components=4)"
   ],
   "outputs": [],
   "metadata": {}
  },
  {
   "cell_type": "code",
   "execution_count": 75,
   "source": [
    "epochs = 1000\n",
    "batch_size = 2048\n",
    "steps_per_epoch = int((len(df_train)//batch_size)*0.9)\n",
    "data_config = DataConfig(\n",
    "    target=['target'],\n",
    "    continuous_cols=cont_cols,\n",
    "    categorical_cols=cat_cols,\n",
    "#         continuous_feature_transform=\"quantile_uniform\"\n",
    ")\n",
    "trainer_config = TrainerConfig(\n",
    "    auto_lr_find=True, # Runs the LRFinder to automatically derive a learning rate\n",
    "    batch_size=batch_size,\n",
    "    max_epochs=epochs,\n",
    "    early_stopping_patience = 5,\n",
    "#     early_stopping=None,\n",
    "    gpus=-1,  #index of the GPU to use. -1 means all available GPUs, None, means CPU\n",
    ")\n",
    "# optimizer_config = OptimizerConfig(lr_scheduler=\"OneCycleLR\", lr_scheduler_params={\"max_lr\":0.005, \"epochs\": epochs, \"steps_per_epoch\":steps_per_epoch})\n",
    "optimizer_config = OptimizerConfig(lr_scheduler=\"ReduceLROnPlateau\", lr_scheduler_params={\"patience\":3})\n",
    "mdn_config = MixtureDensityHeadConfig(num_gaussian=4, \n",
    "                                      weight_regularization=2, \n",
    "#                                       lambda_pi=10, \n",
    "#                                       lambda_sigma=1, \n",
    "                                      mu_bias_init=mu_init\n",
    "                                     )#, mu_bias_init=[0.3, 0.7])\n",
    "model_config = CategoryEmbeddingMDNConfig(\n",
    "    task=\"regression\",\n",
    "    mdn_config=mdn_config,\n",
    "    layers=\"200-100\",  # Number of nodes in each layer\n",
    "    activation=\"ReLU\",  # Activation between each layers\n",
    "    learning_rate=1e-3,\n",
    "    batch_norm_continuous_input=True,\n",
    "    use_batch_norm=True,\n",
    "    dropout=0.0,\n",
    "    embedding_dropout=0,\n",
    "    initialization=\"kaiming\",\n",
    "    #         target_range=[(df_train[col].min(),df_train[col].max()) for col in ['target']]\n",
    ")\n",
    "tabular_model = TabularModel(\n",
    "    data_config=data_config,\n",
    "    model_config=model_config,\n",
    "    optimizer_config=optimizer_config,\n",
    "    trainer_config=trainer_config\n",
    ")"
   ],
   "outputs": [],
   "metadata": {
    "hidden": true
   }
  },
  {
   "cell_type": "markdown",
   "source": [
    "### Training the Model "
   ],
   "metadata": {
    "hidden": true
   }
  },
  {
   "cell_type": "code",
   "execution_count": null,
   "source": [
    "tabular_model.fit(train=df_train, validation=df_valid)"
   ],
   "outputs": [],
   "metadata": {
    "hidden": true
   }
  },
  {
   "cell_type": "markdown",
   "source": [
    "### Predictions and Visualization"
   ],
   "metadata": {
    "hidden": true
   }
  },
  {
   "cell_type": "code",
   "execution_count": 77,
   "source": [
    "pred_df = tabular_model.predict(df_test, quantiles=[0.25,0.5,0.75], n_samples=100, ret_logits=True)\n",
    "pred_df.head()"
   ],
   "outputs": [
    {
     "output_type": "display_data",
     "data": {
      "text/plain": [
       "HBox(children=(HTML(value='Generating Predictions...'), FloatProgress(value=0.0, max=1.0), HTML(value='')))"
      ],
      "application/vnd.jupyter.widget-view+json": {
       "model_id": "cbcc6e06d97749c28ba5781ebd285429",
       "version_major": 2,
       "version_minor": 0
      }
     },
     "metadata": {}
    },
    {
     "output_type": "stream",
     "name": "stdout",
     "text": [
      "\n"
     ]
    },
    {
     "output_type": "execute_result",
     "data": {
      "text/plain": [
       "        CRIM    ZN  INDUS  CHAS    NOX     RM   AGE     DIS   RAD    TAX  ...  \\\n",
       "173  0.09178   0.0   4.05   0.0  0.510  6.416  84.1  2.6463   5.0  296.0  ...   \n",
       "274  0.05644  40.0   6.41   1.0  0.447  6.758  32.9  4.0776   4.0  254.0  ...   \n",
       "491  0.10574   0.0  27.74   0.0  0.609  5.983  98.8  1.8681   4.0  711.0  ...   \n",
       "72   0.09164   0.0  10.81   0.0  0.413  6.065   7.8  5.2873   4.0  305.0  ...   \n",
       "452  5.09017   0.0  18.10   0.0  0.713  6.297  91.8  2.3682  24.0  666.0  ...   \n",
       "\n",
       "     backbone_features_90  backbone_features_91  backbone_features_92  \\\n",
       "173              1.274902              0.000000              0.000000   \n",
       "274              2.153439              0.581171              0.000000   \n",
       "491              2.305889              0.494037              2.370322   \n",
       "72               0.000000              0.564467              0.000000   \n",
       "452              0.000000              0.333266              1.646652   \n",
       "\n",
       "     backbone_features_93  backbone_features_94  backbone_features_95  \\\n",
       "173              0.199463              1.598198              1.412695   \n",
       "274              2.336369              0.000000              0.000000   \n",
       "491              0.000000              0.000000              2.163910   \n",
       "72               0.000000              0.107337              0.000000   \n",
       "452              0.000000              0.000000              1.867627   \n",
       "\n",
       "     backbone_features_96  backbone_features_97  backbone_features_98  \\\n",
       "173              0.509436                   0.0              0.890321   \n",
       "274              0.000000                   0.0              1.657820   \n",
       "491              0.000000                   0.0              0.000000   \n",
       "72               0.000000                   0.0              0.000000   \n",
       "452              1.292073                   0.0              0.021513   \n",
       "\n",
       "     backbone_features_99  \n",
       "173              0.789249  \n",
       "274              0.000000  \n",
       "491              0.000000  \n",
       "72               2.047639  \n",
       "452              0.000000  \n",
       "\n",
       "[5 rows x 130 columns]"
      ],
      "text/html": [
       "<div>\n",
       "<style scoped>\n",
       "    .dataframe tbody tr th:only-of-type {\n",
       "        vertical-align: middle;\n",
       "    }\n",
       "\n",
       "    .dataframe tbody tr th {\n",
       "        vertical-align: top;\n",
       "    }\n",
       "\n",
       "    .dataframe thead th {\n",
       "        text-align: right;\n",
       "    }\n",
       "</style>\n",
       "<table border=\"1\" class=\"dataframe\">\n",
       "  <thead>\n",
       "    <tr style=\"text-align: right;\">\n",
       "      <th></th>\n",
       "      <th>CRIM</th>\n",
       "      <th>ZN</th>\n",
       "      <th>INDUS</th>\n",
       "      <th>CHAS</th>\n",
       "      <th>NOX</th>\n",
       "      <th>RM</th>\n",
       "      <th>AGE</th>\n",
       "      <th>DIS</th>\n",
       "      <th>RAD</th>\n",
       "      <th>TAX</th>\n",
       "      <th>...</th>\n",
       "      <th>backbone_features_90</th>\n",
       "      <th>backbone_features_91</th>\n",
       "      <th>backbone_features_92</th>\n",
       "      <th>backbone_features_93</th>\n",
       "      <th>backbone_features_94</th>\n",
       "      <th>backbone_features_95</th>\n",
       "      <th>backbone_features_96</th>\n",
       "      <th>backbone_features_97</th>\n",
       "      <th>backbone_features_98</th>\n",
       "      <th>backbone_features_99</th>\n",
       "    </tr>\n",
       "  </thead>\n",
       "  <tbody>\n",
       "    <tr>\n",
       "      <th>173</th>\n",
       "      <td>0.09178</td>\n",
       "      <td>0.0</td>\n",
       "      <td>4.05</td>\n",
       "      <td>0.0</td>\n",
       "      <td>0.510</td>\n",
       "      <td>6.416</td>\n",
       "      <td>84.1</td>\n",
       "      <td>2.6463</td>\n",
       "      <td>5.0</td>\n",
       "      <td>296.0</td>\n",
       "      <td>...</td>\n",
       "      <td>1.274902</td>\n",
       "      <td>0.000000</td>\n",
       "      <td>0.000000</td>\n",
       "      <td>0.199463</td>\n",
       "      <td>1.598198</td>\n",
       "      <td>1.412695</td>\n",
       "      <td>0.509436</td>\n",
       "      <td>0.0</td>\n",
       "      <td>0.890321</td>\n",
       "      <td>0.789249</td>\n",
       "    </tr>\n",
       "    <tr>\n",
       "      <th>274</th>\n",
       "      <td>0.05644</td>\n",
       "      <td>40.0</td>\n",
       "      <td>6.41</td>\n",
       "      <td>1.0</td>\n",
       "      <td>0.447</td>\n",
       "      <td>6.758</td>\n",
       "      <td>32.9</td>\n",
       "      <td>4.0776</td>\n",
       "      <td>4.0</td>\n",
       "      <td>254.0</td>\n",
       "      <td>...</td>\n",
       "      <td>2.153439</td>\n",
       "      <td>0.581171</td>\n",
       "      <td>0.000000</td>\n",
       "      <td>2.336369</td>\n",
       "      <td>0.000000</td>\n",
       "      <td>0.000000</td>\n",
       "      <td>0.000000</td>\n",
       "      <td>0.0</td>\n",
       "      <td>1.657820</td>\n",
       "      <td>0.000000</td>\n",
       "    </tr>\n",
       "    <tr>\n",
       "      <th>491</th>\n",
       "      <td>0.10574</td>\n",
       "      <td>0.0</td>\n",
       "      <td>27.74</td>\n",
       "      <td>0.0</td>\n",
       "      <td>0.609</td>\n",
       "      <td>5.983</td>\n",
       "      <td>98.8</td>\n",
       "      <td>1.8681</td>\n",
       "      <td>4.0</td>\n",
       "      <td>711.0</td>\n",
       "      <td>...</td>\n",
       "      <td>2.305889</td>\n",
       "      <td>0.494037</td>\n",
       "      <td>2.370322</td>\n",
       "      <td>0.000000</td>\n",
       "      <td>0.000000</td>\n",
       "      <td>2.163910</td>\n",
       "      <td>0.000000</td>\n",
       "      <td>0.0</td>\n",
       "      <td>0.000000</td>\n",
       "      <td>0.000000</td>\n",
       "    </tr>\n",
       "    <tr>\n",
       "      <th>72</th>\n",
       "      <td>0.09164</td>\n",
       "      <td>0.0</td>\n",
       "      <td>10.81</td>\n",
       "      <td>0.0</td>\n",
       "      <td>0.413</td>\n",
       "      <td>6.065</td>\n",
       "      <td>7.8</td>\n",
       "      <td>5.2873</td>\n",
       "      <td>4.0</td>\n",
       "      <td>305.0</td>\n",
       "      <td>...</td>\n",
       "      <td>0.000000</td>\n",
       "      <td>0.564467</td>\n",
       "      <td>0.000000</td>\n",
       "      <td>0.000000</td>\n",
       "      <td>0.107337</td>\n",
       "      <td>0.000000</td>\n",
       "      <td>0.000000</td>\n",
       "      <td>0.0</td>\n",
       "      <td>0.000000</td>\n",
       "      <td>2.047639</td>\n",
       "    </tr>\n",
       "    <tr>\n",
       "      <th>452</th>\n",
       "      <td>5.09017</td>\n",
       "      <td>0.0</td>\n",
       "      <td>18.10</td>\n",
       "      <td>0.0</td>\n",
       "      <td>0.713</td>\n",
       "      <td>6.297</td>\n",
       "      <td>91.8</td>\n",
       "      <td>2.3682</td>\n",
       "      <td>24.0</td>\n",
       "      <td>666.0</td>\n",
       "      <td>...</td>\n",
       "      <td>0.000000</td>\n",
       "      <td>0.333266</td>\n",
       "      <td>1.646652</td>\n",
       "      <td>0.000000</td>\n",
       "      <td>0.000000</td>\n",
       "      <td>1.867627</td>\n",
       "      <td>1.292073</td>\n",
       "      <td>0.0</td>\n",
       "      <td>0.021513</td>\n",
       "      <td>0.000000</td>\n",
       "    </tr>\n",
       "  </tbody>\n",
       "</table>\n",
       "<p>5 rows × 130 columns</p>\n",
       "</div>"
      ]
     },
     "metadata": {},
     "execution_count": 77
    }
   ],
   "metadata": {
    "hidden": true
   }
  },
  {
   "cell_type": "code",
   "execution_count": 194,
   "source": [
    "import scipy.stats as ss\n",
    "\n",
    "def plot_normal(x_range, mu=0, sigma=1, cdf=False, **kwargs):\n",
    "    '''\n",
    "    Plots the normal distribution function for a given x range\n",
    "    If mu and sigma are not provided, standard normal is plotted\n",
    "    If cdf=True cumulative distribution is plotted\n",
    "    Passes any keyword arguments to matplotlib plot function\n",
    "    '''\n",
    "    x = x_range\n",
    "    if cdf:\n",
    "        y = ss.norm.cdf(x, mu, sigma)\n",
    "    else:\n",
    "        y = ss.norm.pdf(x, mu, sigma)\n",
    "    return x,y\n",
    "\n"
   ],
   "outputs": [],
   "metadata": {}
  },
  {
   "cell_type": "code",
   "execution_count": 134,
   "source": [
    "import torch\n",
    "from torch import nn\n",
    "\n",
    "from torch.autograd import Variable\n",
    "from torch.distributions import Categorical"
   ],
   "outputs": [],
   "metadata": {}
  },
  {
   "cell_type": "code",
   "execution_count": 213,
   "source": [
    "def get_pdf(idx):\n",
    "    row = pred_df.loc[idx]\n",
    "    pi = torch.from_numpy(row[['pi_0','pi_1','pi_2','pi_3']].values).unsqueeze(0)\n",
    "    mu = torch.from_numpy(row[['mu_0','mu_1','mu_2','mu_3']].values).unsqueeze(0)\n",
    "    sigma = torch.from_numpy(row[['sigma_0','sigma_1','sigma_2','sigma_3']].values).unsqueeze(0)\n",
    "    softmax_pi = nn.functional.gumbel_softmax(pi, tau=1, dim=-1)\n",
    "    categorical = Categorical(softmax_pi)\n",
    "    pis = categorical.sample().unsqueeze(1)\n",
    "    sigma = sigma.gather(1, pis).item()\n",
    "    mu = mu.gather(1, pis).item()\n",
    "    x = np.linspace(row['target_prediction'].item()*0.1, row['target_prediction'].item()*1.9, 5000)\n",
    "    return plot_normal(x, mu=mu, sigma=sigma)"
   ],
   "outputs": [],
   "metadata": {}
  },
  {
   "cell_type": "code",
   "execution_count": 252,
   "source": [
    "# idxs = pred_df[mask].sample(5).index\n",
    "\n",
    "idxs = [2, 173, 412, 365]"
   ],
   "outputs": [],
   "metadata": {}
  },
  {
   "cell_type": "code",
   "execution_count": null,
   "source": [
    "traces = []\n",
    "for idx in idxs:\n",
    "    x,y = get_pdf(idx)\n",
    "    trace = go.Scatter(\n",
    "            name=f'House_{idx}',\n",
    "            x=x,\n",
    "            y=y,\n",
    "            mode='lines',\n",
    "    #         line=dict(color='rgba(246, 76, 114, 1)'),\n",
    "        )\n",
    "    traces.append(trace)\n",
    "\n",
    "fig = go.Figure(traces)\n",
    "fig.update_layout(\n",
    "    yaxis_title='P(MEDV)',\n",
    "    xaxis_title='MEDV',\n",
    "#     yaxis_range=[-0.2,1],\n",
    "    title='PDFs of different Houses',\n",
    "    hovermode=\"x\"\n",
    ")\n",
    "fig.show()"
   ],
   "outputs": [],
   "metadata": {}
  },
  {
   "cell_type": "markdown",
   "source": [
    "![](imgs/prob_reg_pdfs_4.png)"
   ],
   "metadata": {}
  },
  {
   "cell_type": "code",
   "execution_count": null,
   "source": [],
   "outputs": [],
   "metadata": {}
  }
 ],
 "metadata": {
  "kernelspec": {
   "display_name": "Python 3",
   "language": "python",
   "name": "python3"
  },
  "language_info": {
   "codemirror_mode": {
    "name": "ipython",
    "version": 3
   },
   "file_extension": ".py",
   "mimetype": "text/x-python",
   "name": "python",
   "nbconvert_exporter": "python",
   "pygments_lexer": "ipython3",
   "version": "3.7.0"
  },
  "varInspector": {
   "cols": {
    "lenName": 16,
    "lenType": 16,
    "lenVar": 40
   },
   "kernels_config": {
    "python": {
     "delete_cmd_postfix": "",
     "delete_cmd_prefix": "del ",
     "library": "var_list.py",
     "varRefreshCmd": "print(var_dic_list())"
    },
    "r": {
     "delete_cmd_postfix": ") ",
     "delete_cmd_prefix": "rm(",
     "library": "var_list.r",
     "varRefreshCmd": "cat(var_dic_list()) "
    }
   },
   "types_to_exclude": [
    "module",
    "function",
    "builtin_function_or_method",
    "instance",
    "_Feature"
   ],
   "window_display": false
  }
 },
 "nbformat": 4,
 "nbformat_minor": 4
}
